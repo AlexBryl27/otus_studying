{
 "cells": [
  {
   "cell_type": "markdown",
   "id": "7a9deb1b-d143-4c85-ba97-31299e6d1aa7",
   "metadata": {},
   "source": [
    "# Предсказание экспрессии белка на основе графа\n",
    "\n",
    "Датасет представляет собой граф взаимойдествия белков. Где узлы это белки, взаимодействие между белками это ребро.\n",
    "\n",
    "Для каждого белка известен уровень его экспрессии. Информация по экспрессии белков, разбитая на train и test. Решается задача регрессии."
   ]
  },
  {
   "cell_type": "code",
   "execution_count": 31,
   "id": "1ab91963-6c91-44e0-8b1b-c6da744a5826",
   "metadata": {},
   "outputs": [],
   "source": [
    "import pandas as pd\n",
    "import networkx as nx\n",
    "import matplotlib.pyplot as plt\n",
    "import walker\n",
    "from gensim.models import Word2Vec\n",
    "from sklearn.manifold import TSNE\n",
    "from sklearn.metrics import mean_squared_error\n",
    "from sklearn.linear_model import LinearRegression\n",
    "import numpy as np"
   ]
  },
  {
   "cell_type": "code",
   "execution_count": 2,
   "id": "f4d5531e-70cd-4395-b783-23db05ca1ea5",
   "metadata": {},
   "outputs": [
    {
     "name": "stdout",
     "output_type": "stream",
     "text": [
      "CPU times: user 103 ms, sys: 94.1 ms, total: 197 ms\n",
      "Wall time: 1.54 s\n"
     ]
    }
   ],
   "source": [
    "%%time\n",
    "edges = pd.read_csv(\"https://raw.githubusercontent.com/a-milenkin/Otus_HW_protein_expression/main/edges.csv\", sep=\",\")"
   ]
  },
  {
   "cell_type": "code",
   "execution_count": 3,
   "id": "9575ecdc-d8f1-410d-a0c3-c8b60e929185",
   "metadata": {},
   "outputs": [
    {
     "data": {
      "text/html": [
       "<div>\n",
       "<style scoped>\n",
       "    .dataframe tbody tr th:only-of-type {\n",
       "        vertical-align: middle;\n",
       "    }\n",
       "\n",
       "    .dataframe tbody tr th {\n",
       "        vertical-align: top;\n",
       "    }\n",
       "\n",
       "    .dataframe thead th {\n",
       "        text-align: right;\n",
       "    }\n",
       "</style>\n",
       "<table border=\"1\" class=\"dataframe\">\n",
       "  <thead>\n",
       "    <tr style=\"text-align: right;\">\n",
       "      <th></th>\n",
       "      <th>node_1</th>\n",
       "      <th>node_2</th>\n",
       "    </tr>\n",
       "  </thead>\n",
       "  <tbody>\n",
       "    <tr>\n",
       "      <th>0</th>\n",
       "      <td>344</td>\n",
       "      <td>50</td>\n",
       "    </tr>\n",
       "    <tr>\n",
       "      <th>1</th>\n",
       "      <td>344</td>\n",
       "      <td>153</td>\n",
       "    </tr>\n",
       "    <tr>\n",
       "      <th>2</th>\n",
       "      <td>344</td>\n",
       "      <td>532</td>\n",
       "    </tr>\n",
       "    <tr>\n",
       "      <th>3</th>\n",
       "      <td>344</td>\n",
       "      <td>679</td>\n",
       "    </tr>\n",
       "    <tr>\n",
       "      <th>4</th>\n",
       "      <td>344</td>\n",
       "      <td>986</td>\n",
       "    </tr>\n",
       "    <tr>\n",
       "      <th>...</th>\n",
       "      <td>...</td>\n",
       "      <td>...</td>\n",
       "    </tr>\n",
       "    <tr>\n",
       "      <th>594169</th>\n",
       "      <td>14857</td>\n",
       "      <td>3544</td>\n",
       "    </tr>\n",
       "    <tr>\n",
       "      <th>594170</th>\n",
       "      <td>25040</td>\n",
       "      <td>11204</td>\n",
       "    </tr>\n",
       "    <tr>\n",
       "      <th>594171</th>\n",
       "      <td>697</td>\n",
       "      <td>20457</td>\n",
       "    </tr>\n",
       "    <tr>\n",
       "      <th>594172</th>\n",
       "      <td>27498</td>\n",
       "      <td>26633</td>\n",
       "    </tr>\n",
       "    <tr>\n",
       "      <th>594173</th>\n",
       "      <td>27158</td>\n",
       "      <td>30665</td>\n",
       "    </tr>\n",
       "  </tbody>\n",
       "</table>\n",
       "<p>594174 rows × 2 columns</p>\n",
       "</div>"
      ],
      "text/plain": [
       "        node_1  node_2\n",
       "0          344      50\n",
       "1          344     153\n",
       "2          344     532\n",
       "3          344     679\n",
       "4          344     986\n",
       "...        ...     ...\n",
       "594169   14857    3544\n",
       "594170   25040   11204\n",
       "594171     697   20457\n",
       "594172   27498   26633\n",
       "594173   27158   30665\n",
       "\n",
       "[594174 rows x 2 columns]"
      ]
     },
     "execution_count": 3,
     "metadata": {},
     "output_type": "execute_result"
    }
   ],
   "source": [
    "edges"
   ]
  },
  {
   "cell_type": "code",
   "execution_count": 4,
   "id": "92bb3b09-1512-426c-9d4a-1676b168e478",
   "metadata": {},
   "outputs": [
    {
     "data": {
      "text/html": [
       "<div>\n",
       "<style scoped>\n",
       "    .dataframe tbody tr th:only-of-type {\n",
       "        vertical-align: middle;\n",
       "    }\n",
       "\n",
       "    .dataframe tbody tr th {\n",
       "        vertical-align: top;\n",
       "    }\n",
       "\n",
       "    .dataframe thead th {\n",
       "        text-align: right;\n",
       "    }\n",
       "</style>\n",
       "<table border=\"1\" class=\"dataframe\">\n",
       "  <thead>\n",
       "    <tr style=\"text-align: right;\">\n",
       "      <th></th>\n",
       "      <th>target</th>\n",
       "      <th>node</th>\n",
       "    </tr>\n",
       "  </thead>\n",
       "  <tbody>\n",
       "    <tr>\n",
       "      <th>0</th>\n",
       "      <td>0.251968</td>\n",
       "      <td>11142</td>\n",
       "    </tr>\n",
       "    <tr>\n",
       "      <th>1</th>\n",
       "      <td>0.689541</td>\n",
       "      <td>2243</td>\n",
       "    </tr>\n",
       "    <tr>\n",
       "      <th>2</th>\n",
       "      <td>0.678245</td>\n",
       "      <td>15514</td>\n",
       "    </tr>\n",
       "    <tr>\n",
       "      <th>3</th>\n",
       "      <td>0.272500</td>\n",
       "      <td>20944</td>\n",
       "    </tr>\n",
       "    <tr>\n",
       "      <th>4</th>\n",
       "      <td>0.248888</td>\n",
       "      <td>8721</td>\n",
       "    </tr>\n",
       "    <tr>\n",
       "      <th>...</th>\n",
       "      <td>...</td>\n",
       "      <td>...</td>\n",
       "    </tr>\n",
       "    <tr>\n",
       "      <th>7995</th>\n",
       "      <td>0.329241</td>\n",
       "      <td>19479</td>\n",
       "    </tr>\n",
       "    <tr>\n",
       "      <th>7996</th>\n",
       "      <td>0.350863</td>\n",
       "      <td>2182</td>\n",
       "    </tr>\n",
       "    <tr>\n",
       "      <th>7997</th>\n",
       "      <td>0.288309</td>\n",
       "      <td>20535</td>\n",
       "    </tr>\n",
       "    <tr>\n",
       "      <th>7998</th>\n",
       "      <td>1.064300</td>\n",
       "      <td>9769</td>\n",
       "    </tr>\n",
       "    <tr>\n",
       "      <th>7999</th>\n",
       "      <td>0.251883</td>\n",
       "      <td>15711</td>\n",
       "    </tr>\n",
       "  </tbody>\n",
       "</table>\n",
       "<p>8000 rows × 2 columns</p>\n",
       "</div>"
      ],
      "text/plain": [
       "        target   node\n",
       "0     0.251968  11142\n",
       "1     0.689541   2243\n",
       "2     0.678245  15514\n",
       "3     0.272500  20944\n",
       "4     0.248888   8721\n",
       "...        ...    ...\n",
       "7995  0.329241  19479\n",
       "7996  0.350863   2182\n",
       "7997  0.288309  20535\n",
       "7998  1.064300   9769\n",
       "7999  0.251883  15711\n",
       "\n",
       "[8000 rows x 2 columns]"
      ]
     },
     "execution_count": 4,
     "metadata": {},
     "output_type": "execute_result"
    }
   ],
   "source": [
    "train = pd.read_csv(\"https://raw.githubusercontent.com/a-milenkin/Otus_HW_protein_expression/main/train.csv\", sep=\",\")\n",
    "train"
   ]
  },
  {
   "cell_type": "code",
   "execution_count": 5,
   "id": "c6efd6ef-0d64-4f3b-ac0e-b555bc713c9a",
   "metadata": {},
   "outputs": [
    {
     "data": {
      "text/html": [
       "<div>\n",
       "<style scoped>\n",
       "    .dataframe tbody tr th:only-of-type {\n",
       "        vertical-align: middle;\n",
       "    }\n",
       "\n",
       "    .dataframe tbody tr th {\n",
       "        vertical-align: top;\n",
       "    }\n",
       "\n",
       "    .dataframe thead th {\n",
       "        text-align: right;\n",
       "    }\n",
       "</style>\n",
       "<table border=\"1\" class=\"dataframe\">\n",
       "  <thead>\n",
       "    <tr style=\"text-align: right;\">\n",
       "      <th></th>\n",
       "      <th>target</th>\n",
       "      <th>node</th>\n",
       "    </tr>\n",
       "  </thead>\n",
       "  <tbody>\n",
       "    <tr>\n",
       "      <th>0</th>\n",
       "      <td>0.279231</td>\n",
       "      <td>817</td>\n",
       "    </tr>\n",
       "    <tr>\n",
       "      <th>1</th>\n",
       "      <td>0.380795</td>\n",
       "      <td>9574</td>\n",
       "    </tr>\n",
       "    <tr>\n",
       "      <th>2</th>\n",
       "      <td>0.686527</td>\n",
       "      <td>1607</td>\n",
       "    </tr>\n",
       "    <tr>\n",
       "      <th>3</th>\n",
       "      <td>0.303594</td>\n",
       "      <td>4782</td>\n",
       "    </tr>\n",
       "    <tr>\n",
       "      <th>4</th>\n",
       "      <td>0.367374</td>\n",
       "      <td>24125</td>\n",
       "    </tr>\n",
       "    <tr>\n",
       "      <th>...</th>\n",
       "      <td>...</td>\n",
       "      <td>...</td>\n",
       "    </tr>\n",
       "    <tr>\n",
       "      <th>1995</th>\n",
       "      <td>0.327932</td>\n",
       "      <td>1849</td>\n",
       "    </tr>\n",
       "    <tr>\n",
       "      <th>1996</th>\n",
       "      <td>0.278870</td>\n",
       "      <td>16977</td>\n",
       "    </tr>\n",
       "    <tr>\n",
       "      <th>1997</th>\n",
       "      <td>0.233343</td>\n",
       "      <td>5952</td>\n",
       "    </tr>\n",
       "    <tr>\n",
       "      <th>1998</th>\n",
       "      <td>0.866416</td>\n",
       "      <td>9067</td>\n",
       "    </tr>\n",
       "    <tr>\n",
       "      <th>1999</th>\n",
       "      <td>0.290044</td>\n",
       "      <td>23213</td>\n",
       "    </tr>\n",
       "  </tbody>\n",
       "</table>\n",
       "<p>2000 rows × 2 columns</p>\n",
       "</div>"
      ],
      "text/plain": [
       "        target   node\n",
       "0     0.279231    817\n",
       "1     0.380795   9574\n",
       "2     0.686527   1607\n",
       "3     0.303594   4782\n",
       "4     0.367374  24125\n",
       "...        ...    ...\n",
       "1995  0.327932   1849\n",
       "1996  0.278870  16977\n",
       "1997  0.233343   5952\n",
       "1998  0.866416   9067\n",
       "1999  0.290044  23213\n",
       "\n",
       "[2000 rows x 2 columns]"
      ]
     },
     "execution_count": 5,
     "metadata": {},
     "output_type": "execute_result"
    }
   ],
   "source": [
    "test = pd.read_csv(\"https://raw.githubusercontent.com/a-milenkin/Otus_HW_protein_expression/main/test.csv\", sep=\",\")\n",
    "test"
   ]
  },
  {
   "cell_type": "markdown",
   "id": "b3a80d87-411b-4896-9a32-f1ff7ea15208",
   "metadata": {},
   "source": [
    "## 1. Создание графа\n",
    "\n",
    "Всего известно 10000 белков. При этом среднее количество связей для каждого узла достаточно высоко. Визуализировать граф не имеет смысла, т.к. мы практически получим картину \"все со всеми\"."
   ]
  },
  {
   "cell_type": "code",
   "execution_count": 6,
   "id": "2d1910c4-9bcd-4356-98b8-4900170e0daf",
   "metadata": {},
   "outputs": [
    {
     "data": {
      "text/plain": [
       "(9889, 9862)"
      ]
     },
     "execution_count": 6,
     "metadata": {},
     "output_type": "execute_result"
    }
   ],
   "source": [
    "edges.node_1.nunique(), edges.node_2.nunique()"
   ]
  },
  {
   "cell_type": "code",
   "execution_count": 44,
   "id": "0de8a1df-f3e2-4095-aeb7-95098e43f635",
   "metadata": {},
   "outputs": [
    {
     "data": {
      "text/plain": [
       "node_2    38.0\n",
       "dtype: float64"
      ]
     },
     "execution_count": 44,
     "metadata": {},
     "output_type": "execute_result"
    }
   ],
   "source": [
    "edges.groupby('node_1').count().median()"
   ]
  },
  {
   "cell_type": "code",
   "execution_count": 35,
   "id": "82984c6e-d8c2-4bf1-bf19-f8b2b80bda1e",
   "metadata": {},
   "outputs": [],
   "source": [
    "G = nx.from_pandas_edgelist(edges, 'node_1', 'node_2', create_using=nx.Graph())"
   ]
  },
  {
   "cell_type": "markdown",
   "id": "4bfb7460-7de2-4c9e-8bc4-0230638ee4dc",
   "metadata": {},
   "source": [
    "## 2. Векторизация узлов\n",
    "### 2.1. DFS-type\n",
    "\n",
    "Для векторизации сгенерируем случайные блуждания. \n",
    "\n",
    "Параметры p и q отвечают за вероятность возвращения в только что посещенную ноду и веротность ухода дальше от текущей ноды соответственно. Следовательно, при малых значениях q (т.к. используется параметр 1/q), мы способствуем обходу графа в глубину (DFS). В нашем случае, с высоким количеством связей каждого узла, мне кажется интуитивным использовать именно такой подход. Для проверки гипотезы так же проверим и BFS. Длину блужданий выставим побольше."
   ]
  },
  {
   "cell_type": "code",
   "execution_count": 64,
   "id": "981d9433-3d3d-4a7a-95a0-39c60fe20611",
   "metadata": {},
   "outputs": [
    {
     "name": "stdout",
     "output_type": "stream",
     "text": [
      "Random walks - T=74.93s\n",
      "CPU times: user 13min 27s, sys: 2.73 s, total: 13min 30s\n",
      "Wall time: 1min 14s\n"
     ]
    }
   ],
   "source": [
    "%%time\n",
    "rw = walker.random_walks(G, n_walks=50, walk_len=40, p=0.25, q=0.01)"
   ]
  },
  {
   "cell_type": "code",
   "execution_count": 66,
   "id": "16fb50ca-8688-4e5e-8b3c-2e8e546c37fa",
   "metadata": {},
   "outputs": [
    {
     "data": {
      "text/plain": [
       "(500000, 40)"
      ]
     },
     "execution_count": 66,
     "metadata": {},
     "output_type": "execute_result"
    }
   ],
   "source": [
    "rw.shape"
   ]
  },
  {
   "cell_type": "code",
   "execution_count": 111,
   "id": "98bd0e5f-2719-4df3-b0fe-d86aaeca1c3f",
   "metadata": {},
   "outputs": [],
   "source": [
    "node_list = list(G.nodes())"
   ]
  },
  {
   "cell_type": "code",
   "execution_count": 112,
   "id": "428f5c2b-1a39-4aa0-9c98-2cbd9f84b675",
   "metadata": {},
   "outputs": [],
   "source": [
    "walks = [[str(node_list[x]) for x in line] for line in rw]"
   ]
  },
  {
   "cell_type": "markdown",
   "id": "9ecefe6e-ba6a-45c4-95b2-38773eeb474d",
   "metadata": {},
   "source": [
    "Для обучения эмбеддингов испольуем Word2Vec"
   ]
  },
  {
   "cell_type": "code",
   "execution_count": 114,
   "id": "333bebe7-f7ea-4cc6-b7ce-986e7a17163b",
   "metadata": {},
   "outputs": [
    {
     "name": "stdout",
     "output_type": "stream",
     "text": [
      "CPU times: user 9min 40s, sys: 1.88 s, total: 9min 42s\n",
      "Wall time: 1min 40s\n"
     ]
    }
   ],
   "source": [
    "%%time\n",
    "model = Word2Vec(walks, vector_size=100, workers=6, sg=1, epochs=5)"
   ]
  },
  {
   "cell_type": "code",
   "execution_count": 116,
   "id": "0addbcfc-594e-46ea-b9ae-535f334df387",
   "metadata": {},
   "outputs": [],
   "source": [
    "X_train = np.asarray([model.wv[str(node)] for node in train.node.values])\n",
    "X_test = np.asarray([model.wv[str(node)] for node in test.node.values])"
   ]
  },
  {
   "cell_type": "markdown",
   "id": "19753285-3299-47b1-9241-8eb4a7cba73d",
   "metadata": {},
   "source": [
    "Для визуализации эмбеддингов можно использзовать TSNE."
   ]
  },
  {
   "cell_type": "code",
   "execution_count": 178,
   "id": "ecccab99-5b92-49db-8659-39e45d82c940",
   "metadata": {
    "tags": []
   },
   "outputs": [],
   "source": [
    "tsne = TSNE()\n",
    "X_tsne = tsne.fit_transform(X_train[:1000])"
   ]
  },
  {
   "cell_type": "code",
   "execution_count": 121,
   "id": "b756a197-94e7-48dd-bbd3-5aa69444975c",
   "metadata": {},
   "outputs": [
    {
     "data": {
      "image/png": "[encoded data removed]",
      "text/plain": [
       "<Figure size 576x576 with 1 Axes>"
      ]
     },
     "metadata": {
      "needs_background": "light"
     },
     "output_type": "display_data"
    }
   ],
   "source": [
    "plt.figure(figsize=(8, 8))\n",
    "plt.scatter(X_tsne[:, 0], X_tsne[:, 1])\n",
    "plt.show()"
   ]
  },
  {
   "cell_type": "markdown",
   "id": "7eb5d5a1-80a6-4c38-b790-3499237de4e8",
   "metadata": {},
   "source": [
    "Скаттерплот показывает незначительные скопления, но нельзя сказать, что они существенны для выделения дополнительных признаков из групп белков.\n",
    "В качестве модели регрессии будет использована самая простая модель из sklearn."
   ]
  },
  {
   "cell_type": "code",
   "execution_count": 177,
   "id": "ef7494b4-1869-40be-97b0-fecd6c820dd8",
   "metadata": {},
   "outputs": [
    {
     "data": {
      "text/html": [
       "<style>#sk-container-id-4 {color: black;background-color: white;}#sk-container-id-4 pre{padding: 0;}#sk-container-id-4 div.sk-toggleable {background-color: white;}#sk-container-id-4 label.sk-toggleable__label {cursor: pointer;display: block;width: 100%;margin-bottom: 0;padding: 0.3em;box-sizing: border-box;text-align: center;}#sk-container-id-4 label.sk-toggleable__label-arrow:before {content: \"▸\";float: left;margin-right: 0.25em;color: #696969;}#sk-container-id-4 label.sk-toggleable__label-arrow:hover:before {color: black;}#sk-container-id-4 div.sk-estimator:hover label.sk-toggleable__label-arrow:before {color: black;}#sk-container-id-4 div.sk-toggleable__content {max-height: 0;max-width: 0;overflow: hidden;text-align: left;background-color: #f0f8ff;}#sk-container-id-4 div.sk-toggleable__content pre {margin: 0.2em;color: black;border-radius: 0.25em;background-color: #f0f8ff;}#sk-container-id-4 input.sk-toggleable__control:checked~div.sk-toggleable__content {max-height: 200px;max-width: 100%;overflow: auto;}#sk-container-id-4 input.sk-toggleable__control:checked~label.sk-toggleable__label-arrow:before {content: \"▾\";}#sk-container-id-4 div.sk-estimator input.sk-toggleable__control:checked~label.sk-toggleable__label {background-color: #d4ebff;}#sk-container-id-4 div.sk-label input.sk-toggleable__control:checked~label.sk-toggleable__label {background-color: #d4ebff;}#sk-container-id-4 input.sk-hidden--visually {border: 0;clip: rect(1px 1px 1px 1px);clip: rect(1px, 1px, 1px, 1px);height: 1px;margin: -1px;overflow: hidden;padding: 0;position: absolute;width: 1px;}#sk-container-id-4 div.sk-estimator {font-family: monospace;background-color: #f0f8ff;border: 1px dotted black;border-radius: 0.25em;box-sizing: border-box;margin-bottom: 0.5em;}#sk-container-id-4 div.sk-estimator:hover {background-color: #d4ebff;}#sk-container-id-4 div.sk-parallel-item::after {content: \"\";width: 100%;border-bottom: 1px solid gray;flex-grow: 1;}#sk-container-id-4 div.sk-label:hover label.sk-toggleable__label {background-color: #d4ebff;}#sk-container-id-4 div.sk-serial::before {content: \"\";position: absolute;border-left: 1px solid gray;box-sizing: border-box;top: 0;bottom: 0;left: 50%;z-index: 0;}#sk-container-id-4 div.sk-serial {display: flex;flex-direction: column;align-items: center;background-color: white;padding-right: 0.2em;padding-left: 0.2em;position: relative;}#sk-container-id-4 div.sk-item {position: relative;z-index: 1;}#sk-container-id-4 div.sk-parallel {display: flex;align-items: stretch;justify-content: center;background-color: white;position: relative;}#sk-container-id-4 div.sk-item::before, #sk-container-id-4 div.sk-parallel-item::before {content: \"\";position: absolute;border-left: 1px solid gray;box-sizing: border-box;top: 0;bottom: 0;left: 50%;z-index: -1;}#sk-container-id-4 div.sk-parallel-item {display: flex;flex-direction: column;z-index: 1;position: relative;background-color: white;}#sk-container-id-4 div.sk-parallel-item:first-child::after {align-self: flex-end;width: 50%;}#sk-container-id-4 div.sk-parallel-item:last-child::after {align-self: flex-start;width: 50%;}#sk-container-id-4 div.sk-parallel-item:only-child::after {width: 0;}#sk-container-id-4 div.sk-dashed-wrapped {border: 1px dashed gray;margin: 0 0.4em 0.5em 0.4em;box-sizing: border-box;padding-bottom: 0.4em;background-color: white;}#sk-container-id-4 div.sk-label label {font-family: monospace;font-weight: bold;display: inline-block;line-height: 1.2em;}#sk-container-id-4 div.sk-label-container {text-align: center;}#sk-container-id-4 div.sk-container {/* jupyter's `normalize.less` sets `[hidden] { display: none; }` but bootstrap.min.css set `[hidden] { display: none !important; }` so we also need the `!important` here to be able to override the default hidden behavior on the sphinx rendered scikit-learn.org. See: https://github.com/scikit-learn/scikit-learn/issues/21755 */display: inline-block !important;position: relative;}#sk-container-id-4 div.sk-text-repr-fallback {display: none;}</style><div id=\"sk-container-id-4\" class=\"sk-top-container\"><div class=\"sk-text-repr-fallback\"><pre>LinearRegression()</pre><b>In a Jupyter environment, please rerun this cell to show the HTML representation or trust the notebook. <br />On GitHub, the HTML representation is unable to render, please try loading this page with nbviewer.org.</b></div><div class=\"sk-container\" hidden><div class=\"sk-item\"><div class=\"sk-estimator sk-toggleable\"><input class=\"sk-toggleable__control sk-hidden--visually\" id=\"sk-estimator-id-4\" type=\"checkbox\" checked><label for=\"sk-estimator-id-4\" class=\"sk-toggleable__label sk-toggleable__label-arrow\">LinearRegression</label><div class=\"sk-toggleable__content\"><pre>LinearRegression()</pre></div></div></div></div></div>"
      ],
      "text/plain": [
       "LinearRegression()"
      ]
     },
     "execution_count": 177,
     "metadata": {},
     "output_type": "execute_result"
    }
   ],
   "source": [
    "regression = LinearRegression()\n",
    "regression.fit(X_train, train.target.values)"
   ]
  },
  {
   "cell_type": "code",
   "execution_count": 125,
   "id": "c89e8273-83ff-4e78-8cda-a06d7751ec06",
   "metadata": {},
   "outputs": [
    {
     "data": {
      "text/plain": [
       "0.6231584642474046"
      ]
     },
     "execution_count": 125,
     "metadata": {},
     "output_type": "execute_result"
    }
   ],
   "source": [
    "regression.score(X_test, test.target.values)"
   ]
  },
  {
   "cell_type": "code",
   "execution_count": 126,
   "id": "60d51d2b-e30a-4fd8-87b0-e9262d541d2c",
   "metadata": {},
   "outputs": [
    {
     "data": {
      "text/plain": [
       "0.2834168024414281"
      ]
     },
     "execution_count": 126,
     "metadata": {},
     "output_type": "execute_result"
    }
   ],
   "source": [
    "mean_squared_error(regression.predict(X_test), test.target.values)"
   ]
  },
  {
   "cell_type": "markdown",
   "id": "5a55103d-5711-4fde-9557-fbe526468630",
   "metadata": {},
   "source": [
    "### 2.2. BFS-type\n",
    "\n",
    "Теперь при тех же параметрах попробуем обойти граф больше в ширину, увеличив q."
   ]
  },
  {
   "cell_type": "code",
   "execution_count": 127,
   "id": "2c92c651-bc3c-4379-86df-e7119395af79",
   "metadata": {},
   "outputs": [
    {
     "name": "stdout",
     "output_type": "stream",
     "text": [
      "Random walks - T=72.95s\n",
      "CPU times: user 13min 41s, sys: 1.35 s, total: 13min 42s\n",
      "Wall time: 1min 12s\n"
     ]
    }
   ],
   "source": [
    "%%time\n",
    "rw = walker.random_walks(G, n_walks=50, walk_len=40, p=0.25, q=0.5)"
   ]
  },
  {
   "cell_type": "code",
   "execution_count": 128,
   "id": "30790f74-d7cb-41c6-b32f-15d7c409d1ed",
   "metadata": {},
   "outputs": [],
   "source": [
    "walks = [[str(node_list[x]) for x in line] for line in rw]"
   ]
  },
  {
   "cell_type": "code",
   "execution_count": 129,
   "id": "0b90d9c6-6119-4b84-a018-f96bb2691d68",
   "metadata": {},
   "outputs": [
    {
     "name": "stdout",
     "output_type": "stream",
     "text": [
      "CPU times: user 9min 58s, sys: 1.36 s, total: 9min 59s\n",
      "Wall time: 1min 42s\n"
     ]
    }
   ],
   "source": [
    "%%time\n",
    "model = Word2Vec(walks, vector_size=100, workers=6, sg=1, epochs=5)"
   ]
  },
  {
   "cell_type": "code",
   "execution_count": 130,
   "id": "3b1bae2c-3f34-438d-a6f6-ccaf7b139533",
   "metadata": {},
   "outputs": [],
   "source": [
    "X_train = np.asarray([model.wv[str(node)] for node in train.node.values])\n",
    "X_test = np.asarray([model.wv[str(node)] for node in test.node.values])"
   ]
  },
  {
   "cell_type": "code",
   "execution_count": 179,
   "id": "d69335ee-435a-4a64-b62f-f9060cf2698e",
   "metadata": {},
   "outputs": [],
   "source": [
    "tsne = TSNE()\n",
    "X_tsne = tsne.fit_transform(X_train[:1000])"
   ]
  },
  {
   "cell_type": "code",
   "execution_count": 132,
   "id": "0230cc11-34f6-4e81-be0f-7bb5b6847e4a",
   "metadata": {},
   "outputs": [
    {
     "data": {
      "image/png": "[encoded data removed]",
      "text/plain": [
       "<Figure size 576x576 with 1 Axes>"
      ]
     },
     "metadata": {
      "needs_background": "light"
     },
     "output_type": "display_data"
    }
   ],
   "source": [
    "plt.figure(figsize=(8, 8))\n",
    "plt.scatter(X_tsne[:, 0], X_tsne[:, 1])\n",
    "plt.show()"
   ]
  },
  {
   "cell_type": "code",
   "execution_count": 133,
   "id": "3410fcde-6f6e-43a7-9dbf-b7252e737353",
   "metadata": {},
   "outputs": [
    {
     "data": {
      "text/html": [
       "<style>#sk-container-id-2 {color: black;background-color: white;}#sk-container-id-2 pre{padding: 0;}#sk-container-id-2 div.sk-toggleable {background-color: white;}#sk-container-id-2 label.sk-toggleable__label {cursor: pointer;display: block;width: 100%;margin-bottom: 0;padding: 0.3em;box-sizing: border-box;text-align: center;}#sk-container-id-2 label.sk-toggleable__label-arrow:before {content: \"▸\";float: left;margin-right: 0.25em;color: #696969;}#sk-container-id-2 label.sk-toggleable__label-arrow:hover:before {color: black;}#sk-container-id-2 div.sk-estimator:hover label.sk-toggleable__label-arrow:before {color: black;}#sk-container-id-2 div.sk-toggleable__content {max-height: 0;max-width: 0;overflow: hidden;text-align: left;background-color: #f0f8ff;}#sk-container-id-2 div.sk-toggleable__content pre {margin: 0.2em;color: black;border-radius: 0.25em;background-color: #f0f8ff;}#sk-container-id-2 input.sk-toggleable__control:checked~div.sk-toggleable__content {max-height: 200px;max-width: 100%;overflow: auto;}#sk-container-id-2 input.sk-toggleable__control:checked~label.sk-toggleable__label-arrow:before {content: \"▾\";}#sk-container-id-2 div.sk-estimator input.sk-toggleable__control:checked~label.sk-toggleable__label {background-color: #d4ebff;}#sk-container-id-2 div.sk-label input.sk-toggleable__control:checked~label.sk-toggleable__label {background-color: #d4ebff;}#sk-container-id-2 input.sk-hidden--visually {border: 0;clip: rect(1px 1px 1px 1px);clip: rect(1px, 1px, 1px, 1px);height: 1px;margin: -1px;overflow: hidden;padding: 0;position: absolute;width: 1px;}#sk-container-id-2 div.sk-estimator {font-family: monospace;background-color: #f0f8ff;border: 1px dotted black;border-radius: 0.25em;box-sizing: border-box;margin-bottom: 0.5em;}#sk-container-id-2 div.sk-estimator:hover {background-color: #d4ebff;}#sk-container-id-2 div.sk-parallel-item::after {content: \"\";width: 100%;border-bottom: 1px solid gray;flex-grow: 1;}#sk-container-id-2 div.sk-label:hover label.sk-toggleable__label {background-color: #d4ebff;}#sk-container-id-2 div.sk-serial::before {content: \"\";position: absolute;border-left: 1px solid gray;box-sizing: border-box;top: 0;bottom: 0;left: 50%;z-index: 0;}#sk-container-id-2 div.sk-serial {display: flex;flex-direction: column;align-items: center;background-color: white;padding-right: 0.2em;padding-left: 0.2em;position: relative;}#sk-container-id-2 div.sk-item {position: relative;z-index: 1;}#sk-container-id-2 div.sk-parallel {display: flex;align-items: stretch;justify-content: center;background-color: white;position: relative;}#sk-container-id-2 div.sk-item::before, #sk-container-id-2 div.sk-parallel-item::before {content: \"\";position: absolute;border-left: 1px solid gray;box-sizing: border-box;top: 0;bottom: 0;left: 50%;z-index: -1;}#sk-container-id-2 div.sk-parallel-item {display: flex;flex-direction: column;z-index: 1;position: relative;background-color: white;}#sk-container-id-2 div.sk-parallel-item:first-child::after {align-self: flex-end;width: 50%;}#sk-container-id-2 div.sk-parallel-item:last-child::after {align-self: flex-start;width: 50%;}#sk-container-id-2 div.sk-parallel-item:only-child::after {width: 0;}#sk-container-id-2 div.sk-dashed-wrapped {border: 1px dashed gray;margin: 0 0.4em 0.5em 0.4em;box-sizing: border-box;padding-bottom: 0.4em;background-color: white;}#sk-container-id-2 div.sk-label label {font-family: monospace;font-weight: bold;display: inline-block;line-height: 1.2em;}#sk-container-id-2 div.sk-label-container {text-align: center;}#sk-container-id-2 div.sk-container {/* jupyter's `normalize.less` sets `[hidden] { display: none; }` but bootstrap.min.css set `[hidden] { display: none !important; }` so we also need the `!important` here to be able to override the default hidden behavior on the sphinx rendered scikit-learn.org. See: https://github.com/scikit-learn/scikit-learn/issues/21755 */display: inline-block !important;position: relative;}#sk-container-id-2 div.sk-text-repr-fallback {display: none;}</style><div id=\"sk-container-id-2\" class=\"sk-top-container\"><div class=\"sk-text-repr-fallback\"><pre>LinearRegression()</pre><b>In a Jupyter environment, please rerun this cell to show the HTML representation or trust the notebook. <br />On GitHub, the HTML representation is unable to render, please try loading this page with nbviewer.org.</b></div><div class=\"sk-container\" hidden><div class=\"sk-item\"><div class=\"sk-estimator sk-toggleable\"><input class=\"sk-toggleable__control sk-hidden--visually\" id=\"sk-estimator-id-2\" type=\"checkbox\" checked><label for=\"sk-estimator-id-2\" class=\"sk-toggleable__label sk-toggleable__label-arrow\">LinearRegression</label><div class=\"sk-toggleable__content\"><pre>LinearRegression()</pre></div></div></div></div></div>"
      ],
      "text/plain": [
       "LinearRegression()"
      ]
     },
     "execution_count": 133,
     "metadata": {},
     "output_type": "execute_result"
    }
   ],
   "source": [
    "regression = LinearRegression()\n",
    "regression.fit(X_train, train.target.values)"
   ]
  },
  {
   "cell_type": "code",
   "execution_count": 134,
   "id": "b477a506-9541-46c3-bd8b-9e25594b910e",
   "metadata": {},
   "outputs": [
    {
     "data": {
      "text/plain": [
       "0.5932604376616358"
      ]
     },
     "execution_count": 134,
     "metadata": {},
     "output_type": "execute_result"
    }
   ],
   "source": [
    "regression.score(X_test, test.target.values)"
   ]
  },
  {
   "cell_type": "code",
   "execution_count": 135,
   "id": "c1e328c3-1c76-4d2f-b904-a3af537813b4",
   "metadata": {},
   "outputs": [
    {
     "data": {
      "text/plain": [
       "0.3059026546905032"
      ]
     },
     "execution_count": 135,
     "metadata": {},
     "output_type": "execute_result"
    }
   ],
   "source": [
    "mean_squared_error(regression.predict(X_test), test.target.values)"
   ]
  },
  {
   "cell_type": "markdown",
   "id": "7a927e65-1e84-4340-a81f-32145486e0b0",
   "metadata": {},
   "source": [
    "Результаты ухудшились, из чего можно сделать вывод, что для данного графа предпочтительней использовать DFS при случайном блуждании. Можно немного улучшить MSE, увеличив длину блужданий и количество эпох обучения Word2Vec."
   ]
  },
  {
   "cell_type": "markdown",
   "id": "ff30ed80-f435-4f60-bc11-ed6b30cee62c",
   "metadata": {},
   "source": [
    "## 3. Стандартные метрики графа\n",
    "\n",
    "Здесь для выделения признаков используем:\n",
    "* degree_centrality\n",
    "* betweenness_centrality\n",
    "* closeness_centrality"
   ]
  },
  {
   "cell_type": "code",
   "execution_count": 180,
   "id": "6fcfe83e-09e6-49d0-804b-454c29005648",
   "metadata": {},
   "outputs": [],
   "source": [
    "degree_centrality = nx.degree_centrality(G)"
   ]
  },
  {
   "cell_type": "code",
   "execution_count": 191,
   "id": "a8989981-37dd-4893-896a-efbf5ae5614f",
   "metadata": {},
   "outputs": [
    {
     "name": "stdout",
     "output_type": "stream",
     "text": [
      "CPU times: user 36.2 s, sys: 27.6 ms, total: 36.2 s\n",
      "Wall time: 36.2 s\n"
     ]
    }
   ],
   "source": [
    "%%time\n",
    "betweenness_centrality = nx.betweenness_centrality(G, k=100)"
   ]
  },
  {
   "cell_type": "markdown",
   "id": "2682e310-efe1-4e35-8a76-07e758722570",
   "metadata": {},
   "source": [
    "К сожалению, расчет близости занимет слишком много времени, попробуем обойтись без него."
   ]
  },
  {
   "cell_type": "code",
   "execution_count": 203,
   "id": "fc4c9abb-2cda-45fc-bb75-e4bf3b737a3f",
   "metadata": {},
   "outputs": [],
   "source": [
    "# closeness_centrality = nx.closeness_centrality(G)"
   ]
  },
  {
   "cell_type": "code",
   "execution_count": 198,
   "id": "d549253c-f18f-4238-9bc9-a1b68ac4200f",
   "metadata": {
    "tags": []
   },
   "outputs": [],
   "source": [
    "train_features = np.zeros((train.shape[0], 2))\n",
    "for i, node in enumerate(train.node.values):\n",
    "    train_features[i, 0] = degree_centrality[node]\n",
    "    train_features[i, 1] = betweenness_centrality[node]\n",
    "    # train_features[i, 2] = closeness_centrality[node]\n",
    "    \n",
    "test_features = np.zeros((test.shape[0], 2))\n",
    "for i, node in enumerate(test.node.values):\n",
    "    test_features[i, 0] = degree_centrality[node]\n",
    "    test_features[i, 1] = betweenness_centrality[node]\n",
    "    # test_features[i, 2] = closeness_centrality[node]"
   ]
  },
  {
   "cell_type": "code",
   "execution_count": 223,
   "id": "e7b6ccf7-0b22-44cb-b70f-aa345a0364af",
   "metadata": {},
   "outputs": [
    {
     "data": {
      "text/html": [
       "<style>#sk-container-id-8 {color: black;background-color: white;}#sk-container-id-8 pre{padding: 0;}#sk-container-id-8 div.sk-toggleable {background-color: white;}#sk-container-id-8 label.sk-toggleable__label {cursor: pointer;display: block;width: 100%;margin-bottom: 0;padding: 0.3em;box-sizing: border-box;text-align: center;}#sk-container-id-8 label.sk-toggleable__label-arrow:before {content: \"▸\";float: left;margin-right: 0.25em;color: #696969;}#sk-container-id-8 label.sk-toggleable__label-arrow:hover:before {color: black;}#sk-container-id-8 div.sk-estimator:hover label.sk-toggleable__label-arrow:before {color: black;}#sk-container-id-8 div.sk-toggleable__content {max-height: 0;max-width: 0;overflow: hidden;text-align: left;background-color: #f0f8ff;}#sk-container-id-8 div.sk-toggleable__content pre {margin: 0.2em;color: black;border-radius: 0.25em;background-color: #f0f8ff;}#sk-container-id-8 input.sk-toggleable__control:checked~div.sk-toggleable__content {max-height: 200px;max-width: 100%;overflow: auto;}#sk-container-id-8 input.sk-toggleable__control:checked~label.sk-toggleable__label-arrow:before {content: \"▾\";}#sk-container-id-8 div.sk-estimator input.sk-toggleable__control:checked~label.sk-toggleable__label {background-color: #d4ebff;}#sk-container-id-8 div.sk-label input.sk-toggleable__control:checked~label.sk-toggleable__label {background-color: #d4ebff;}#sk-container-id-8 input.sk-hidden--visually {border: 0;clip: rect(1px 1px 1px 1px);clip: rect(1px, 1px, 1px, 1px);height: 1px;margin: -1px;overflow: hidden;padding: 0;position: absolute;width: 1px;}#sk-container-id-8 div.sk-estimator {font-family: monospace;background-color: #f0f8ff;border: 1px dotted black;border-radius: 0.25em;box-sizing: border-box;margin-bottom: 0.5em;}#sk-container-id-8 div.sk-estimator:hover {background-color: #d4ebff;}#sk-container-id-8 div.sk-parallel-item::after {content: \"\";width: 100%;border-bottom: 1px solid gray;flex-grow: 1;}#sk-container-id-8 div.sk-label:hover label.sk-toggleable__label {background-color: #d4ebff;}#sk-container-id-8 div.sk-serial::before {content: \"\";position: absolute;border-left: 1px solid gray;box-sizing: border-box;top: 0;bottom: 0;left: 50%;z-index: 0;}#sk-container-id-8 div.sk-serial {display: flex;flex-direction: column;align-items: center;background-color: white;padding-right: 0.2em;padding-left: 0.2em;position: relative;}#sk-container-id-8 div.sk-item {position: relative;z-index: 1;}#sk-container-id-8 div.sk-parallel {display: flex;align-items: stretch;justify-content: center;background-color: white;position: relative;}#sk-container-id-8 div.sk-item::before, #sk-container-id-8 div.sk-parallel-item::before {content: \"\";position: absolute;border-left: 1px solid gray;box-sizing: border-box;top: 0;bottom: 0;left: 50%;z-index: -1;}#sk-container-id-8 div.sk-parallel-item {display: flex;flex-direction: column;z-index: 1;position: relative;background-color: white;}#sk-container-id-8 div.sk-parallel-item:first-child::after {align-self: flex-end;width: 50%;}#sk-container-id-8 div.sk-parallel-item:last-child::after {align-self: flex-start;width: 50%;}#sk-container-id-8 div.sk-parallel-item:only-child::after {width: 0;}#sk-container-id-8 div.sk-dashed-wrapped {border: 1px dashed gray;margin: 0 0.4em 0.5em 0.4em;box-sizing: border-box;padding-bottom: 0.4em;background-color: white;}#sk-container-id-8 div.sk-label label {font-family: monospace;font-weight: bold;display: inline-block;line-height: 1.2em;}#sk-container-id-8 div.sk-label-container {text-align: center;}#sk-container-id-8 div.sk-container {/* jupyter's `normalize.less` sets `[hidden] { display: none; }` but bootstrap.min.css set `[hidden] { display: none !important; }` so we also need the `!important` here to be able to override the default hidden behavior on the sphinx rendered scikit-learn.org. See: https://github.com/scikit-learn/scikit-learn/issues/21755 */display: inline-block !important;position: relative;}#sk-container-id-8 div.sk-text-repr-fallback {display: none;}</style><div id=\"sk-container-id-8\" class=\"sk-top-container\"><div class=\"sk-text-repr-fallback\"><pre>LinearRegression()</pre><b>In a Jupyter environment, please rerun this cell to show the HTML representation or trust the notebook. <br />On GitHub, the HTML representation is unable to render, please try loading this page with nbviewer.org.</b></div><div class=\"sk-container\" hidden><div class=\"sk-item\"><div class=\"sk-estimator sk-toggleable\"><input class=\"sk-toggleable__control sk-hidden--visually\" id=\"sk-estimator-id-8\" type=\"checkbox\" checked><label for=\"sk-estimator-id-8\" class=\"sk-toggleable__label sk-toggleable__label-arrow\">LinearRegression</label><div class=\"sk-toggleable__content\"><pre>LinearRegression()</pre></div></div></div></div></div>"
      ],
      "text/plain": [
       "LinearRegression()"
      ]
     },
     "execution_count": 223,
     "metadata": {},
     "output_type": "execute_result"
    }
   ],
   "source": [
    "lr = LinearRegression()\n",
    "lr.fit(train_features, train.target.values)"
   ]
  },
  {
   "cell_type": "code",
   "execution_count": 224,
   "id": "c6bc6856-1b3c-4ff9-a6cd-b70f10a37adc",
   "metadata": {},
   "outputs": [
    {
     "data": {
      "text/plain": [
       "0.9842614454422908"
      ]
     },
     "execution_count": 224,
     "metadata": {},
     "output_type": "execute_result"
    }
   ],
   "source": [
    "lr.score(test_features, test.target.values)"
   ]
  },
  {
   "cell_type": "code",
   "execution_count": 227,
   "id": "1ebec2de-b253-4852-8f1c-4dd43742a661",
   "metadata": {},
   "outputs": [
    {
     "data": {
      "text/plain": [
       "0.011836728132655681"
      ]
     },
     "execution_count": 227,
     "metadata": {},
     "output_type": "execute_result"
    }
   ],
   "source": [
    "mean_squared_error(lr.predict(test_features), test.target.values)"
   ]
  },
  {
   "cell_type": "markdown",
   "id": "dae53224-1440-4d13-b989-ca8db78160f8",
   "metadata": {},
   "source": [
    "Поразительные результаты. Самые простые метрики дали почти R2-score почти 1 и гораздо меньшую MSE, чем сложные модели."
   ]
  },
  {
   "cell_type": "code",
   "execution_count": 228,
   "id": "13be6bb4-0643-4fb5-8d68-54518a2360d7",
   "metadata": {},
   "outputs": [
    {
     "data": {
      "image/png": "[encoded data removed]",
      "text/plain": [
       "<Figure size 576x576 with 1 Axes>"
      ]
     },
     "metadata": {
      "needs_background": "light"
     },
     "output_type": "display_data"
    }
   ],
   "source": [
    "plt.figure(figsize=(8, 8))\n",
    "plt.scatter(test_features[:, 0], test.target.values)\n",
    "plt.xlabel('Degree')\n",
    "plt.ylabel('Expression')\n",
    "plt.show()"
   ]
  },
  {
   "cell_type": "markdown",
   "id": "8f5ae27f-1da2-425c-85c1-216f18904fa2",
   "metadata": {},
   "source": [
    "Более того, оказывается самый сильный признак - degree centrality. Как видно на графике, экспрессия имеет прямую линейную зависимость от количества связей белка. Очевидный способ улучшить результаты - дождаться расчета меры близости и увеличить количество семплов для меры посредничества."
   ]
  },
  {
   "cell_type": "code",
   "execution_count": null,
   "id": "2d94104f-5f84-481d-a6f1-a54fe2de95ac",
   "metadata": {},
   "outputs": [],
   "source": []
  }
 ],
 "metadata": {
  "kernelspec": {
   "display_name": "Python 3 (ipykernel)",
   "language": "python",
   "name": "python3"
  },
  "language_info": {
   "codemirror_mode": {
    "name": "ipython",
    "version": 3
   },
   "file_extension": ".py",
   "mimetype": "text/x-python",
   "name": "python",
   "nbconvert_exporter": "python",
   "pygments_lexer": "ipython3",
   "version": "3.10.4"
  }
 },
 "nbformat": 4,
 "nbformat_minor": 5
}
