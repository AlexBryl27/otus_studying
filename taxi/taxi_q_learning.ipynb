{
 "cells": [
  {
   "cell_type": "markdown",
   "id": "8eb8561c-38dc-4e7b-b6a3-165121acd24c",
   "metadata": {},
   "source": [
    "# Q-learning для окружения Taxi\n",
    "\n",
    "Описание домашнего задания:\n",
    "* Возьмите среду Taxi из фреймворка gym: https://gymnasium.farama.org/environments/toy_text/taxi/.\n",
    "* Определите и опишите какие у этой среды есть состояния и награды, а также какие действия можно совершать.\n",
    "* Реализуйте один из алгоритмов поиска оптимальной стратегии: Value Iteration, Policy Iteration, Monte Carlo, SARSA, Q-learning.\n",
    "* Получив оптимальную стратегию сыграйте 10 000 эпизодов и выведите оценку этой стратегии в виде средней награды за все игры и/или количество побед.\n",
    "* Визуализируйте один эпизод игры с оптимальной стратегией."
   ]
  },
  {
   "cell_type": "code",
   "execution_count": 1,
   "id": "0efe096c-5700-4095-ba97-9a82356dcf92",
   "metadata": {},
   "outputs": [],
   "source": [
    "import gymnasium as gym\n",
    "import numpy as np\n",
    "from tqdm.auto import tqdm\n",
    "import matplotlib.pyplot as plt"
   ]
  },
  {
   "cell_type": "markdown",
   "id": "85bb2979-97da-45a9-aefa-3b3f1df49aad",
   "metadata": {},
   "source": [
    "## 1. Описание окружения\n",
    "\n",
    "Окружение такси представляет из себя сетку 5х5 с 4 пунктами назначения. Стоит задача подобрать пассажира из одного из 4 пунктов и привезти в другой требуемый пункт назначения. При asci-рендере точка забора пассажира окрашена в голубой цвет, точка высадки в красный. Начальное положение такси случайно.\n",
    "\n",
    "Доступные действия:\n",
    "* 0 - движение вниз\n",
    "* 1 - движение вверх\n",
    "* 2 - движение вправо\n",
    "* 3 - движение влево\n",
    "* 4 - подобрать пассажира\n",
    "* 5 - высадить пассажира\n",
    "\n",
    "Переход из одного состояния в другое имеет вероятность 1.\n",
    "Награда за каждое движение -1. Награда за высадку пассажира в пункте назначения +20, награда за высадку пассажира в неправильном месте -10.\n",
    "\n",
    "Всего в окружении 500 состояний: 25 позиций на сетке, 4 пункта назначения, 5 локаций пассажира (пункты назначения + само такси).\n",
    "Эпизод заканчивается или при высадке пассажира в треюуемом пункте назаначения или при превышении числа эпизодов."
   ]
  },
  {
   "cell_type": "code",
   "execution_count": 2,
   "id": "c01d43c6-6b07-4782-a005-79a476341e2c",
   "metadata": {},
   "outputs": [
    {
     "data": {
      "text/plain": [
       "(388, {'prob': 1.0, 'action_mask': array([1, 1, 0, 1, 0, 0], dtype=int8)})"
      ]
     },
     "execution_count": 2,
     "metadata": {},
     "output_type": "execute_result"
    }
   ],
   "source": [
    "env = gym.make('Taxi-v3', render_mode='ansi', max_episode_steps=1000)\n",
    "env.reset()"
   ]
  },
  {
   "cell_type": "code",
   "execution_count": 3,
   "id": "218ec079-d365-4f1e-ae7a-0770c7b53efd",
   "metadata": {},
   "outputs": [
    {
     "data": {
      "text/plain": [
       "(500, 6)"
      ]
     },
     "execution_count": 3,
     "metadata": {},
     "output_type": "execute_result"
    }
   ],
   "source": [
    "env.observation_space.n, env.action_space.n"
   ]
  },
  {
   "cell_type": "code",
   "execution_count": 4,
   "id": "17c29625-cbc5-465d-b90a-cf3a2135b182",
   "metadata": {},
   "outputs": [
    {
     "name": "stdout",
     "output_type": "stream",
     "text": [
      "+---------+\n",
      "|\u001b[35mR\u001b[0m: | : :G|\n",
      "| : | : : |\n",
      "| : : : : |\n",
      "| | : | :\u001b[43m \u001b[0m|\n",
      "|\u001b[34;1mY\u001b[0m| : |B: |\n",
      "+---------+\n",
      "\n",
      "\n"
     ]
    }
   ],
   "source": [
    "print(env.render())"
   ]
  },
  {
   "cell_type": "code",
   "execution_count": 5,
   "id": "5ac7a81a-0776-4500-b507-27f47f9a7e60",
   "metadata": {},
   "outputs": [
    {
     "data": {
      "text/plain": [
       "{0: [(1.0, 100, -1, False)],\n",
       " 1: [(1.0, 0, -1, False)],\n",
       " 2: [(1.0, 20, -1, False)],\n",
       " 3: [(1.0, 0, -1, False)],\n",
       " 4: [(1.0, 16, -1, False)],\n",
       " 5: [(1.0, 0, -10, False)]}"
      ]
     },
     "execution_count": 5,
     "metadata": {},
     "output_type": "execute_result"
    }
   ],
   "source": [
    "env.env.P[0]"
   ]
  },
  {
   "cell_type": "code",
   "execution_count": 6,
   "id": "40e146d3-241f-42fd-a801-88ad7dd99c4e",
   "metadata": {},
   "outputs": [
    {
     "data": {
      "text/plain": [
       "[16, 97, 418, 479]"
      ]
     },
     "execution_count": 6,
     "metadata": {},
     "output_type": "execute_result"
    }
   ],
   "source": [
    "final_states = []\n",
    "for state in env.env.P.keys():\n",
    "    for action in env.env.P[state]:\n",
    "        if env.env.P[state][action][0][3] == True:\n",
    "            final_states.append(state)\n",
    "final_states"
   ]
  },
  {
   "cell_type": "markdown",
   "id": "6944253d-631c-4d2f-9b47-ae08432a86f6",
   "metadata": {},
   "source": [
    "В этом окружении финальные состояния достигаются только при одном из 6 действий. Поэтому в Q-таблице согласно алгоритму необходимо занулить только 4 значения."
   ]
  },
  {
   "cell_type": "code",
   "execution_count": 7,
   "id": "78a40860-3d7c-4845-9456-cf7ecf9809af",
   "metadata": {},
   "outputs": [
    {
     "data": {
      "text/plain": [
       "{0: [(1.0, 116, -1, False)],\n",
       " 1: [(1.0, 16, -1, False)],\n",
       " 2: [(1.0, 36, -1, False)],\n",
       " 3: [(1.0, 16, -1, False)],\n",
       " 4: [(1.0, 16, -10, False)],\n",
       " 5: [(1.0, 0, 20, True)]}"
      ]
     },
     "execution_count": 7,
     "metadata": {},
     "output_type": "execute_result"
    }
   ],
   "source": [
    "env.env.P[16]"
   ]
  },
  {
   "cell_type": "markdown",
   "id": "cdd76491-3c8d-4cb6-97d8-f23d0a10860f",
   "metadata": {},
   "source": [
    "## 2. Реализация алгоритма Q-learning"
   ]
  },
  {
   "cell_type": "code",
   "execution_count": 8,
   "id": "4bdc2370-9d4f-464f-a124-55f7e65649dc",
   "metadata": {},
   "outputs": [],
   "source": [
    "def get_random_Q(env):\n",
    "    nS, nA = env.observation_space.n, env.action_space.n\n",
    "    Q = np.random.random(size=(nS, nA))\n",
    "    Q[final_states, 5] = 0.0\n",
    "    return Q\n",
    "\n",
    "def compute_policy_by_Q(env, Q):\n",
    "    return np.argmax(Q, axis=1)"
   ]
  },
  {
   "cell_type": "code",
   "execution_count": 9,
   "id": "782c47be-5abe-4944-9a1e-cb9a3b8d02b1",
   "metadata": {},
   "outputs": [],
   "source": [
    "def learning_episode(env, policy, Q, alpha=0.1, epsiolon=0.1, gamma=0.9, max_epochs=1000):\n",
    "    state, _ = env.reset()\n",
    "    n_epochs, total_reward = 0, 0\n",
    "    done = False\n",
    "    for _ in range(max_epochs):\n",
    "        action = policy[state] if np.random.rand() > epsilon else env.action_space.sample()\n",
    "        next_state, reward, done, _, _ = env.step(action)\n",
    "        total_reward += reward\n",
    "\n",
    "        Q[state, action] += alpha * (reward + gamma * Q[next_state].max() - Q[state, action])\n",
    "        state = next_state\n",
    "        n_epochs += 1\n",
    "        if done:\n",
    "            break\n",
    "    return n_epochs, total_reward"
   ]
  },
  {
   "cell_type": "markdown",
   "id": "de5f1457-5637-4be1-9efb-4cd9af4d4e65",
   "metadata": {},
   "source": [
    "### 2.1. Обучение"
   ]
  },
  {
   "cell_type": "code",
   "execution_count": 10,
   "id": "9d8f9a14-d302-40c1-9944-8cc4fc4519f5",
   "metadata": {
    "tags": []
   },
   "outputs": [
    {
     "data": {
      "application/vnd.jupyter.widget-view+json": {
       "model_id": "fa719b5b08c04bb68afd1fd3dbdcbf2f",
       "version_major": 2,
       "version_minor": 0
      },
      "text/plain": [
       "  0%|          | 0/10000 [00:00<?, ?it/s]"
      ]
     },
     "metadata": {},
     "output_type": "display_data"
    }
   ],
   "source": [
    "Q = get_random_Q(env)\n",
    "policy = compute_policy_by_Q(env, Q)\n",
    "\n",
    "n_episodes = 10000\n",
    "gamma = 0.9\n",
    "epsilon = 0.1\n",
    "alpha = 0.1\n",
    "\n",
    "epochs_per_eposode, reward_per_episode = [], []\n",
    "for _ in tqdm(range(n_episodes)):\n",
    "    n_epochs, total_reward = learning_episode(env, policy, Q, alpha, epsilon, gamma)\n",
    "    epochs_per_eposode.append(n_epochs)\n",
    "    reward_per_episode.append(total_reward)\n",
    "    policy = compute_policy_by_Q(env, Q)\n",
    "\n",
    "env.close()"
   ]
  },
  {
   "cell_type": "markdown",
   "id": "8c06e703-52ea-4ff6-b88f-20bbb2293023",
   "metadata": {},
   "source": [
    "### 2.2. Визуализация обучения"
   ]
  },
  {
   "cell_type": "code",
   "execution_count": 11,
   "id": "b43c1827-4b6d-41e2-b7a3-091795f94184",
   "metadata": {},
   "outputs": [],
   "source": [
    "def moving_average(x, w):\n",
    "    return np.convolve(x, np.ones(w), 'valid') / w"
   ]
  },
  {
   "cell_type": "markdown",
   "id": "d12240f6-f55b-4e46-ad74-078e8f89834d",
   "metadata": {},
   "source": [
    "В качестве визулизации наиболее наглядными будут усредненные награды по эпизодам и усредненное количество шагов, требуемых для достижения финального состояния."
   ]
  },
  {
   "cell_type": "code",
   "execution_count": 12,
   "id": "408dca34-6390-4637-8586-a765886a0dac",
   "metadata": {},
   "outputs": [],
   "source": [
    "rewards_dynamic = moving_average(reward_per_episode, 100)"
   ]
  },
  {
   "cell_type": "code",
   "execution_count": 13,
   "id": "46dd90e7-72b7-4ebb-a6af-654311e11157",
   "metadata": {},
   "outputs": [
    {
     "data": {
      "image/png": "[encoded data removed]",
      "text/plain": [
       "<Figure size 1080x360 with 1 Axes>"
      ]
     },
     "metadata": {
      "needs_background": "light"
     },
     "output_type": "display_data"
    }
   ],
   "source": [
    "plt.figure(figsize=(15,5))\n",
    "plt.plot(rewards_dynamic)\n",
    "plt.title(\"Average reward per episode\")\n",
    "plt.xlabel(\"Episodes\")\n",
    "plt.ylabel(\"Reward\")\n",
    "plt.show()"
   ]
  },
  {
   "cell_type": "code",
   "execution_count": 14,
   "id": "a4a17cb1-ea0c-4b93-a4b5-df1be3f88dd8",
   "metadata": {},
   "outputs": [],
   "source": [
    "nepochs_dynamic = moving_average(epochs_per_eposode, 100)"
   ]
  },
  {
   "cell_type": "code",
   "execution_count": 15,
   "id": "0961ea94-7179-4f27-8d1e-0752bbb6991a",
   "metadata": {},
   "outputs": [
    {
     "data": {
      "image/png": "[encoded data removed]",
      "text/plain": [
       "<Figure size 1080x360 with 1 Axes>"
      ]
     },
     "metadata": {
      "needs_background": "light"
     },
     "output_type": "display_data"
    }
   ],
   "source": [
    "plt.figure(figsize=(15,5))\n",
    "plt.plot(nepochs_dynamic)\n",
    "plt.title(\"Average number of epochs per episode\")\n",
    "plt.xlabel(\"Episodes\")\n",
    "plt.ylabel(\"N epochs\")\n",
    "plt.show()"
   ]
  },
  {
   "cell_type": "markdown",
   "id": "bc767b21-7033-49d6-9da5-57d9dc652d97",
   "metadata": {},
   "source": [
    "Как видно, оптимальная политика была получена уже после примерно 2000 эпизодов."
   ]
  },
  {
   "cell_type": "code",
   "execution_count": 16,
   "id": "f3483e38-fa0f-4ca3-b411-0536b58b0063",
   "metadata": {},
   "outputs": [
    {
     "data": {
      "text/plain": [
       "[14, 13, 12, 11, 11, 7, 15, 16, 18, 13]"
      ]
     },
     "execution_count": 16,
     "metadata": {},
     "output_type": "execute_result"
    }
   ],
   "source": [
    "epochs_per_eposode[-10:]"
   ]
  },
  {
   "cell_type": "code",
   "execution_count": 17,
   "id": "1145e45b-0428-49de-8fe6-6ed2321805d8",
   "metadata": {},
   "outputs": [
    {
     "data": {
      "text/plain": [
       "[-2, -1, 9, 1, 10, 14, 6, 5, -6, 8]"
      ]
     },
     "execution_count": 17,
     "metadata": {},
     "output_type": "execute_result"
    }
   ],
   "source": [
    "reward_per_episode[-10:]"
   ]
  },
  {
   "cell_type": "code",
   "execution_count": 43,
   "id": "1a42e0d8-b51b-4584-9213-8a1aa3d0d209",
   "metadata": {},
   "outputs": [],
   "source": [
    "epochs_per_eposode = np.asarray(epochs_per_eposode)"
   ]
  },
  {
   "cell_type": "code",
   "execution_count": 47,
   "id": "aebdc848-8aaa-4cea-b0b5-6802af75ef59",
   "metadata": {},
   "outputs": [
    {
     "data": {
      "text/plain": [
       "(9424,)"
      ]
     },
     "execution_count": 47,
     "metadata": {},
     "output_type": "execute_result"
    }
   ],
   "source": [
    "np.where(epochs_per_eposode < 1000)[0].shape"
   ]
  },
  {
   "cell_type": "markdown",
   "id": "adf24144-3af0-4e3e-8af4-d5f017d92d98",
   "metadata": {},
   "source": [
    "В качестве оценки успешности алгоритма вряд ли будет показательно количество успешных эпизодов, т.к. нет прочих терминальных состояний, а мы даем слишком много попыток достичь результата. В итоге 94% всех эпизодов заканчиваются \"успешно\"."
   ]
  },
  {
   "cell_type": "markdown",
   "id": "53b607d5-dce6-48e5-893b-35ba6b7df76f",
   "metadata": {},
   "source": [
    "## 3. Тестирование политики\n",
    "\n",
    "Проиграем один эпизод на оптимальной политике."
   ]
  },
  {
   "cell_type": "code",
   "execution_count": 33,
   "id": "47738f4f-0551-4435-8dbb-5f7e38c7168d",
   "metadata": {},
   "outputs": [],
   "source": [
    "state, _ = env.reset()\n",
    "\n",
    "done = False\n",
    "history = [env.render()]\n",
    "test_reward, test_n_epochs = 0, 0\n",
    "\n",
    "while not done:\n",
    "    action = policy[state]\n",
    "    state, reward, done, _, _ = env.step(action)\n",
    "    test_reward += reward\n",
    "    test_n_epochs += 1\n",
    "    history.append(env.render())"
   ]
  },
  {
   "cell_type": "code",
   "execution_count": 34,
   "id": "a5b2746a-c9a3-4225-a230-80d71603bb2b",
   "metadata": {},
   "outputs": [
    {
     "data": {
      "text/plain": [
       "(8, 13)"
      ]
     },
     "execution_count": 34,
     "metadata": {},
     "output_type": "execute_result"
    }
   ],
   "source": [
    "test_reward, test_n_epochs"
   ]
  },
  {
   "cell_type": "markdown",
   "id": "19b7a6f4-caf6-40a3-8246-6d8dd6252063",
   "metadata": {},
   "source": [
    "В качестве визуализации подойдет вывод рендеров эпизода"
   ]
  },
  {
   "cell_type": "code",
   "execution_count": 35,
   "id": "069f1da4-90a8-4970-9043-555cb2d8b2bb",
   "metadata": {},
   "outputs": [
    {
     "name": "stdout",
     "output_type": "stream",
     "text": [
      "+---------+\n",
      "|\u001b[35mR\u001b[0m: | : :G|\n",
      "| : |\u001b[43m \u001b[0m: : |\n",
      "| : : : : |\n",
      "| | : | : |\n",
      "|Y| : |\u001b[34;1mB\u001b[0m: |\n",
      "+---------+\n",
      "\n",
      "\n",
      "+---------+\n",
      "|\u001b[35mR\u001b[0m: | : :G|\n",
      "| : | : : |\n",
      "| : :\u001b[43m \u001b[0m: : |\n",
      "| | : | : |\n",
      "|Y| : |\u001b[34;1mB\u001b[0m: |\n",
      "+---------+\n",
      "  (South)\n",
      "\n",
      "+---------+\n",
      "|\u001b[35mR\u001b[0m: | : :G|\n",
      "| : | : : |\n",
      "| : : :\u001b[43m \u001b[0m: |\n",
      "| | : | : |\n",
      "|Y| : |\u001b[34;1mB\u001b[0m: |\n",
      "+---------+\n",
      "  (East)\n",
      "\n",
      "+---------+\n",
      "|\u001b[35mR\u001b[0m: | : :G|\n",
      "| : | : : |\n",
      "| : : : : |\n",
      "| | : |\u001b[43m \u001b[0m: |\n",
      "|Y| : |\u001b[34;1mB\u001b[0m: |\n",
      "+---------+\n",
      "  (South)\n",
      "\n",
      "+---------+\n",
      "|\u001b[35mR\u001b[0m: | : :G|\n",
      "| : | : : |\n",
      "| : : : : |\n",
      "| | : | : |\n",
      "|Y| : |\u001b[34;1m\u001b[43mB\u001b[0m\u001b[0m: |\n",
      "+---------+\n",
      "  (South)\n",
      "\n",
      "+---------+\n",
      "|\u001b[35mR\u001b[0m: | : :G|\n",
      "| : | : : |\n",
      "| : : : : |\n",
      "| | : | : |\n",
      "|Y| : |\u001b[42mB\u001b[0m: |\n",
      "+---------+\n",
      "  (Pickup)\n",
      "\n",
      "+---------+\n",
      "|\u001b[35mR\u001b[0m: | : :G|\n",
      "| : | : : |\n",
      "| : : : : |\n",
      "| | : |\u001b[42m_\u001b[0m: |\n",
      "|Y| : |B: |\n",
      "+---------+\n",
      "  (North)\n",
      "\n",
      "+---------+\n",
      "|\u001b[35mR\u001b[0m: | : :G|\n",
      "| : | : : |\n",
      "| : : :\u001b[42m_\u001b[0m: |\n",
      "| | : | : |\n",
      "|Y| : |B: |\n",
      "+---------+\n",
      "  (North)\n",
      "\n",
      "+---------+\n",
      "|\u001b[35mR\u001b[0m: | : :G|\n",
      "| : | : : |\n",
      "| : :\u001b[42m_\u001b[0m: : |\n",
      "| | : | : |\n",
      "|Y| : |B: |\n",
      "+---------+\n",
      "  (West)\n",
      "\n",
      "+---------+\n",
      "|\u001b[35mR\u001b[0m: | : :G|\n",
      "| : | : : |\n",
      "| :\u001b[42m_\u001b[0m: : : |\n",
      "| | : | : |\n",
      "|Y| : |B: |\n",
      "+---------+\n",
      "  (West)\n",
      "\n",
      "+---------+\n",
      "|\u001b[35mR\u001b[0m: | : :G|\n",
      "| : | : : |\n",
      "|\u001b[42m_\u001b[0m: : : : |\n",
      "| | : | : |\n",
      "|Y| : |B: |\n",
      "+---------+\n",
      "  (West)\n",
      "\n",
      "+---------+\n",
      "|\u001b[35mR\u001b[0m: | : :G|\n",
      "|\u001b[42m_\u001b[0m: | : : |\n",
      "| : : : : |\n",
      "| | : | : |\n",
      "|Y| : |B: |\n",
      "+---------+\n",
      "  (North)\n",
      "\n",
      "+---------+\n",
      "|\u001b[35m\u001b[42mR\u001b[0m\u001b[0m: | : :G|\n",
      "| : | : : |\n",
      "| : : : : |\n",
      "| | : | : |\n",
      "|Y| : |B: |\n",
      "+---------+\n",
      "  (North)\n",
      "\n",
      "+---------+\n",
      "|\u001b[35m\u001b[34;1m\u001b[43mR\u001b[0m\u001b[0m\u001b[0m: | : :G|\n",
      "| : | : : |\n",
      "| : : : : |\n",
      "| | : | : |\n",
      "|Y| : |B: |\n",
      "+---------+\n",
      "  (Dropoff)\n",
      "\n"
     ]
    }
   ],
   "source": [
    "for x in history:\n",
    "    print(x)"
   ]
  },
  {
   "cell_type": "code",
   "execution_count": null,
   "id": "6f9661b8-5f6d-4e19-8472-84888f967df1",
   "metadata": {},
   "outputs": [],
   "source": []
  }
 ],
 "metadata": {
  "kernelspec": {
   "display_name": "Python 3 (ipykernel)",
   "language": "python",
   "name": "python3"
  },
  "language_info": {
   "codemirror_mode": {
    "name": "ipython",
    "version": 3
   },
   "file_extension": ".py",
   "mimetype": "text/x-python",
   "name": "python",
   "nbconvert_exporter": "python",
   "pygments_lexer": "ipython3",
   "version": "3.10.4"
  }
 },
 "nbformat": 4,
 "nbformat_minor": 5
}
