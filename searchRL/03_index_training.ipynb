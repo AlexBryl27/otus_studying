{
 "cells": [
  {
   "cell_type": "markdown",
   "id": "85af7df7-1fab-4ccd-9bb1-d93bb7520bd4",
   "metadata": {},
   "source": [
    "# Обучение поискового индекса\n",
    "\n",
    "За основу поиска кандидатов будет взят ANN-алгоритм из библиотеки hnswlib.\n",
    "\n",
    "В индекс будут положены вектора документо - наименований товаров. Для улучшения качества изначального ранжирования вектора наименований товаров будут усреднены с топ-5 самых релевантных товару запросов."
   ]
  },
  {
   "cell_type": "code",
   "execution_count": 1,
   "id": "0c000956-4585-40c7-bd53-03d7411e2971",
   "metadata": {},
   "outputs": [],
   "source": [
    "import sys\n",
    "sys.path.append('src/')"
   ]
  },
  {
   "cell_type": "code",
   "execution_count": 2,
   "id": "1f77d31d-9ee5-4bd4-9842-900888e7e430",
   "metadata": {},
   "outputs": [],
   "source": [
    "from src.tokenizer import Tokenizer\n",
    "from src.hnsw_index import HNSWIndex"
   ]
  },
  {
   "cell_type": "code",
   "execution_count": 3,
   "id": "87cb1b1a-4f99-449d-89c9-954be9130f28",
   "metadata": {},
   "outputs": [],
   "source": [
    "from gensim.models import FastText\n",
    "from sklearn.preprocessing import StandardScaler\n",
    "import pickle\n",
    "import pandas as pd\n",
    "import numpy as np\n",
    "from itertools import groupby\n",
    "from tqdm.auto import tqdm\n",
    "\n",
    "tqdm.pandas()"
   ]
  },
  {
   "cell_type": "markdown",
   "id": "91a60ddc-c0fe-4ffc-953d-99ccbd732fe5",
   "metadata": {},
   "source": [
    "## 1. Data loading"
   ]
  },
  {
   "cell_type": "code",
   "execution_count": 4,
   "id": "fe2d90b5-f68e-45d5-a815-86a8a8d40ba5",
   "metadata": {},
   "outputs": [],
   "source": [
    "tokenizer = Tokenizer()"
   ]
  },
  {
   "cell_type": "code",
   "execution_count": 5,
   "id": "390ad58a-cc61-4109-82e0-dd05a05c3d21",
   "metadata": {},
   "outputs": [],
   "source": [
    "model = FastText.load('models/lm')"
   ]
  },
  {
   "cell_type": "code",
   "execution_count": 6,
   "id": "1315da49-ae50-47c0-8f63-ee1173ca9dd0",
   "metadata": {},
   "outputs": [],
   "source": [
    "def vectorize(sentence):\n",
    "    tokens = tokenizer.tokenize(sentence)\n",
    "    if len(tokens) == 0:\n",
    "        return np.array([])\n",
    "    return np.mean([model.wv[x] for x in tokens], axis=0)"
   ]
  },
  {
   "cell_type": "code",
   "execution_count": 9,
   "id": "3c4c7a13-a58a-40f1-9749-e0a5db6acbfe",
   "metadata": {},
   "outputs": [
    {
     "data": {
      "text/html": [
       "<div>\n",
       "<style scoped>\n",
       "    .dataframe tbody tr th:only-of-type {\n",
       "        vertical-align: middle;\n",
       "    }\n",
       "\n",
       "    .dataframe tbody tr th {\n",
       "        vertical-align: top;\n",
       "    }\n",
       "\n",
       "    .dataframe thead th {\n",
       "        text-align: right;\n",
       "    }\n",
       "</style>\n",
       "<table border=\"1\" class=\"dataframe\">\n",
       "  <thead>\n",
       "    <tr style=\"text-align: right;\">\n",
       "      <th></th>\n",
       "      <th>keyword</th>\n",
       "      <th>item_id</th>\n",
       "      <th>relevance</th>\n",
       "    </tr>\n",
       "  </thead>\n",
       "  <tbody>\n",
       "    <tr>\n",
       "      <th>0</th>\n",
       "      <td>0 000 1 1400 2 673 edition k karcher universal...</td>\n",
       "      <td>100001322597</td>\n",
       "      <td>0.405465</td>\n",
       "    </tr>\n",
       "    <tr>\n",
       "      <th>1</th>\n",
       "      <td>0 000 1 1400 2 673 edition k karcher universal...</td>\n",
       "      <td>100001325223</td>\n",
       "      <td>0.693147</td>\n",
       "    </tr>\n",
       "    <tr>\n",
       "      <th>2</th>\n",
       "      <td>0 000 1 1400 2 673 edition k karcher universal...</td>\n",
       "      <td>100013196777</td>\n",
       "      <td>0.405465</td>\n",
       "    </tr>\n",
       "    <tr>\n",
       "      <th>3</th>\n",
       "      <td>0 000 1 1400 2 673 edition k karcher universal...</td>\n",
       "      <td>100024448131</td>\n",
       "      <td>3.931826</td>\n",
       "    </tr>\n",
       "    <tr>\n",
       "      <th>4</th>\n",
       "      <td>0 000 1 1400 2 673 edition k karcher universal...</td>\n",
       "      <td>100026038206</td>\n",
       "      <td>4.624973</td>\n",
       "    </tr>\n",
       "    <tr>\n",
       "      <th>...</th>\n",
       "      <td>...</td>\n",
       "      <td>...</td>\n",
       "      <td>...</td>\n",
       "    </tr>\n",
       "    <tr>\n",
       "      <th>1154062</th>\n",
       "      <td>ящик</td>\n",
       "      <td>600002996248</td>\n",
       "      <td>0.055570</td>\n",
       "    </tr>\n",
       "    <tr>\n",
       "      <th>1154063</th>\n",
       "      <td>ящик</td>\n",
       "      <td>600003699719</td>\n",
       "      <td>0.693147</td>\n",
       "    </tr>\n",
       "    <tr>\n",
       "      <th>1154064</th>\n",
       "      <td>ящик</td>\n",
       "      <td>600009268170</td>\n",
       "      <td>3.931826</td>\n",
       "    </tr>\n",
       "    <tr>\n",
       "      <th>1154065</th>\n",
       "      <td>ящик</td>\n",
       "      <td>600011403382</td>\n",
       "      <td>2.397895</td>\n",
       "    </tr>\n",
       "    <tr>\n",
       "      <th>1154066</th>\n",
       "      <td>ящик</td>\n",
       "      <td>600011783498</td>\n",
       "      <td>0.405465</td>\n",
       "    </tr>\n",
       "  </tbody>\n",
       "</table>\n",
       "<p>1154067 rows × 3 columns</p>\n",
       "</div>"
      ],
      "text/plain": [
       "                                                   keyword       item_id  \\\n",
       "0        0 000 1 1400 2 673 edition k karcher universal...  100001322597   \n",
       "1        0 000 1 1400 2 673 edition k karcher universal...  100001325223   \n",
       "2        0 000 1 1400 2 673 edition k karcher universal...  100013196777   \n",
       "3        0 000 1 1400 2 673 edition k karcher universal...  100024448131   \n",
       "4        0 000 1 1400 2 673 edition k karcher universal...  100026038206   \n",
       "...                                                    ...           ...   \n",
       "1154062                                               ящик  600002996248   \n",
       "1154063                                               ящик  600003699719   \n",
       "1154064                                               ящик  600009268170   \n",
       "1154065                                               ящик  600011403382   \n",
       "1154066                                               ящик  600011783498   \n",
       "\n",
       "         relevance  \n",
       "0         0.405465  \n",
       "1         0.693147  \n",
       "2         0.405465  \n",
       "3         3.931826  \n",
       "4         4.624973  \n",
       "...            ...  \n",
       "1154062   0.055570  \n",
       "1154063   0.693147  \n",
       "1154064   3.931826  \n",
       "1154065   2.397895  \n",
       "1154066   0.405465  \n",
       "\n",
       "[1154067 rows x 3 columns]"
      ]
     },
     "execution_count": 9,
     "metadata": {},
     "output_type": "execute_result"
    }
   ],
   "source": [
    "data = pd.read_csv('data/relevance_data.csv')\n",
    "data"
   ]
  },
  {
   "cell_type": "markdown",
   "id": "756eceee-d6af-4e39-bc2c-08404c8c9ccf",
   "metadata": {},
   "source": [
    "Наименования товаров загружены ранее и в открытый доступ не выложены."
   ]
  },
  {
   "cell_type": "code",
   "execution_count": 10,
   "id": "1b27b52e-05a2-46e4-833c-b44adf4657bd",
   "metadata": {},
   "outputs": [
    {
     "data": {
      "text/html": [
       "<div>\n",
       "<style scoped>\n",
       "    .dataframe tbody tr th:only-of-type {\n",
       "        vertical-align: middle;\n",
       "    }\n",
       "\n",
       "    .dataframe tbody tr th {\n",
       "        vertical-align: top;\n",
       "    }\n",
       "\n",
       "    .dataframe thead th {\n",
       "        text-align: right;\n",
       "    }\n",
       "</style>\n",
       "<table border=\"1\" class=\"dataframe\">\n",
       "  <thead>\n",
       "    <tr style=\"text-align: right;\">\n",
       "      <th></th>\n",
       "      <th>item_id</th>\n",
       "      <th>item_name</th>\n",
       "    </tr>\n",
       "  </thead>\n",
       "  <tbody>\n",
       "    <tr>\n",
       "      <th>0</th>\n",
       "      <td>600006078311</td>\n",
       "      <td>Кружка DRABS Леброн Джеймс 2</td>\n",
       "    </tr>\n",
       "    <tr>\n",
       "      <th>1</th>\n",
       "      <td>100032969753</td>\n",
       "      <td>Чехол Awog \"Ромашковое поле\" для Xiaomi Redmi ...</td>\n",
       "    </tr>\n",
       "    <tr>\n",
       "      <th>2</th>\n",
       "      <td>100033020143</td>\n",
       "      <td>Чехол Awog \"Зайчик-бананчик\" для Xiaomi Redmi ...</td>\n",
       "    </tr>\n",
       "    <tr>\n",
       "      <th>3</th>\n",
       "      <td>100033005120</td>\n",
       "      <td>Чехол Awog \"Бордовые розы фон\" для Xiaomi Redm...</td>\n",
       "    </tr>\n",
       "    <tr>\n",
       "      <th>4</th>\n",
       "      <td>100033014330</td>\n",
       "      <td>Чехол Awog \"На счастье\" для Motorola Moto Edge...</td>\n",
       "    </tr>\n",
       "    <tr>\n",
       "      <th>...</th>\n",
       "      <td>...</td>\n",
       "      <td>...</td>\n",
       "    </tr>\n",
       "    <tr>\n",
       "      <th>39452112</th>\n",
       "      <td>100050658252</td>\n",
       "      <td>Водительский Ева коврик VIMCOVЭR для BMW Х1 F4...</td>\n",
       "    </tr>\n",
       "    <tr>\n",
       "      <th>39452113</th>\n",
       "      <td>100050673165</td>\n",
       "      <td>Водительский Ева коврик VIMCOVЭR для TOYOTA CR...</td>\n",
       "    </tr>\n",
       "    <tr>\n",
       "      <th>39452114</th>\n",
       "      <td>100050660265</td>\n",
       "      <td>Передние Ева коврики VIMCOVЭR для FORD EXPEDIT...</td>\n",
       "    </tr>\n",
       "    <tr>\n",
       "      <th>39452115</th>\n",
       "      <td>100050667056</td>\n",
       "      <td>Водительский Ева коврик VIMCOVЭR для OPEL ASTR...</td>\n",
       "    </tr>\n",
       "    <tr>\n",
       "      <th>39452116</th>\n",
       "      <td>100050666592</td>\n",
       "      <td>Комплeкт Ева ковриков VIMCOVЭR для NISSAN NAVA...</td>\n",
       "    </tr>\n",
       "  </tbody>\n",
       "</table>\n",
       "<p>39452117 rows × 2 columns</p>\n",
       "</div>"
      ],
      "text/plain": [
       "               item_id                                          item_name\n",
       "0         600006078311                       Кружка DRABS Леброн Джеймс 2\n",
       "1         100032969753  Чехол Awog \"Ромашковое поле\" для Xiaomi Redmi ...\n",
       "2         100033020143  Чехол Awog \"Зайчик-бананчик\" для Xiaomi Redmi ...\n",
       "3         100033005120  Чехол Awog \"Бордовые розы фон\" для Xiaomi Redm...\n",
       "4         100033014330  Чехол Awog \"На счастье\" для Motorola Moto Edge...\n",
       "...                ...                                                ...\n",
       "39452112  100050658252  Водительский Ева коврик VIMCOVЭR для BMW Х1 F4...\n",
       "39452113  100050673165  Водительский Ева коврик VIMCOVЭR для TOYOTA CR...\n",
       "39452114  100050660265  Передние Ева коврики VIMCOVЭR для FORD EXPEDIT...\n",
       "39452115  100050667056  Водительский Ева коврик VIMCOVЭR для OPEL ASTR...\n",
       "39452116  100050666592  Комплeкт Ева ковриков VIMCOVЭR для NISSAN NAVA...\n",
       "\n",
       "[39452117 rows x 2 columns]"
      ]
     },
     "execution_count": 10,
     "metadata": {},
     "output_type": "execute_result"
    }
   ],
   "source": [
    "item_names = pd.read_parquet('data/item_names.parquet')\n",
    "item_names"
   ]
  },
  {
   "cell_type": "code",
   "execution_count": 11,
   "id": "acb4c60c-34b6-4ab3-a373-0b29e1990901",
   "metadata": {},
   "outputs": [],
   "source": [
    "item_names = item_names.set_index('item_id').item_name.to_dict()"
   ]
  },
  {
   "cell_type": "markdown",
   "id": "fa4b5eeb-2a27-41ff-9459-4458360da075",
   "metadata": {},
   "source": [
    "## 2. Vectorization"
   ]
  },
  {
   "cell_type": "code",
   "execution_count": 12,
   "id": "6c561ce8-d936-4640-905d-be4e0b1148d7",
   "metadata": {},
   "outputs": [],
   "source": [
    "data = data.sort_values(by=['item_id', 'relevance', 'keyword'], ascending=False)"
   ]
  },
  {
   "cell_type": "code",
   "execution_count": 13,
   "id": "4102284e-aa2c-4088-95db-d880c101c4e0",
   "metadata": {},
   "outputs": [
    {
     "data": {
      "application/vnd.jupyter.widget-view+json": {
       "model_id": "6fe5cc628b3544838d9d5ec9ef388a9e",
       "version_major": 2,
       "version_minor": 0
      },
      "text/plain": [
       "  0%|          | 0/630615 [00:00<?, ?it/s]"
      ]
     },
     "metadata": {},
     "output_type": "display_data"
    }
   ],
   "source": [
    "top_n = 5\n",
    "index_names, index_ids, index_vectors = [], [], []\n",
    "\n",
    "for item_id, session in tqdm(groupby(data.itertuples(), key=lambda x: x[2]), total=data.item_id.nunique()):\n",
    "    session = list(session)[:top_n]\n",
    "    vectors = [vectorize(x.keyword) for x in session]\n",
    "    item_name = item_names[item_id]\n",
    "    item_vector = vectorize(item_name)\n",
    "    if len(item_vector) == 0:\n",
    "        continue\n",
    "    vectors.append(item_vector)\n",
    "    vector = np.mean(vectors, axis=0)\n",
    "    if len(vector) == 0:\n",
    "        continue\n",
    "    index_vectors.append(vector)\n",
    "    index_ids.append(item_id)\n",
    "    index_names.append(item_name)"
   ]
  },
  {
   "cell_type": "code",
   "execution_count": 14,
   "id": "dc1f7476-4f13-4d7c-aca0-69507df6aded",
   "metadata": {},
   "outputs": [],
   "source": [
    "index_names = np.asarray(index_names)\n",
    "index_ids = np.asarray(index_ids)\n",
    "index_vectors = np.asarray(index_vectors)"
   ]
  },
  {
   "cell_type": "code",
   "execution_count": 15,
   "id": "c6c2a9b0-74d7-4bcf-bfc6-62506cd2904f",
   "metadata": {},
   "outputs": [
    {
     "data": {
      "text/plain": [
       "(630580, 100)"
      ]
     },
     "execution_count": 15,
     "metadata": {},
     "output_type": "execute_result"
    }
   ],
   "source": [
    "index_vectors.shape"
   ]
  },
  {
   "cell_type": "code",
   "execution_count": 45,
   "id": "550b1ccd-2b3b-4de4-8eee-c88729d632c0",
   "metadata": {},
   "outputs": [],
   "source": [
    "np.save('data/index_names.npy', index_names)\n",
    "np.save('data/index_ids.npy', index_ids)\n",
    "np.save('data/index_vectors.npy', index_vectors)"
   ]
  },
  {
   "cell_type": "markdown",
   "id": "842515b1-bfdb-4ccc-b1b7-632712ddf251",
   "metadata": {},
   "source": [
    "## 3. Scaling\n",
    "\n",
    "Шкалирование для поиска процедура совершенно ненужная, но я предполагаю, что настроить коэффициенты при векторах будет проще, если они будут в одном масштабе и больше нуля."
   ]
  },
  {
   "cell_type": "code",
   "execution_count": 30,
   "id": "dd425d43-a574-4066-a5df-e875681720e0",
   "metadata": {},
   "outputs": [],
   "source": [
    "scaler = StandardScaler()\n",
    "scaled_vectors = scaler.fit_transform(index_vectors)"
   ]
  },
  {
   "cell_type": "code",
   "execution_count": 31,
   "id": "e1980b33-aecb-418b-86ae-60533f4abe09",
   "metadata": {},
   "outputs": [],
   "source": [
    "constant = np.abs(scaled_vectors.min(axis=0))\n",
    "scaled_vectors = scaled_vectors[:, ] + constant"
   ]
  },
  {
   "cell_type": "code",
   "execution_count": 23,
   "id": "0062a388-f051-44ad-b387-c100465b7599",
   "metadata": {},
   "outputs": [],
   "source": [
    "np.save('data/scaled_vectors.npy', scaled_vectors)"
   ]
  },
  {
   "cell_type": "code",
   "execution_count": 39,
   "id": "7a8003e1-1dd1-45f9-8c58-4bea44b9870a",
   "metadata": {},
   "outputs": [],
   "source": [
    "np.save('data/constant.npy', constant)"
   ]
  },
  {
   "cell_type": "code",
   "execution_count": 42,
   "id": "4e8bb1e3-dd87-49c6-9e57-950b67a64266",
   "metadata": {},
   "outputs": [],
   "source": [
    "with open('models/scaler.pickle', 'wb') as f:\n",
    "    pickle.dump(scaler, f)"
   ]
  },
  {
   "cell_type": "markdown",
   "id": "42b1f947-6d81-4bdd-bf8f-fa74b19f071d",
   "metadata": {},
   "source": [
    "## 4. Index training\n",
    "\n",
    "Непосредственно обучение индекса."
   ]
  },
  {
   "cell_type": "code",
   "execution_count": 24,
   "id": "6182ac16-f8b5-4f57-a92e-e56fdf6ab7d7",
   "metadata": {},
   "outputs": [
    {
     "name": "stdout",
     "output_type": "stream",
     "text": [
      "CPU times: user 24min 35s, sys: 36.1 s, total: 25min 12s\n",
      "Wall time: 22.1 s\n"
     ]
    }
   ],
   "source": [
    "%%time\n",
    "index = HNSWIndex(\n",
    "    dim=model.vector_size,\n",
    "    ef_construction=500,\n",
    "    M=48,\n",
    "    ef=100\n",
    ")\n",
    "index.train(scaled_vectors)"
   ]
  },
  {
   "cell_type": "code",
   "execution_count": 33,
   "id": "a57dcc45-c8b5-494a-83e0-46f9f3a30e04",
   "metadata": {},
   "outputs": [],
   "source": [
    "def test_search(query, n_search=100):\n",
    "    vector = vectorize(query).reshape(1, -1)\n",
    "    vector = scaler.transform(vector) + constant\n",
    "    I, D = index.index.knn_query(vector, k=n_search)\n",
    "    return index_names[I[0]]"
   ]
  },
  {
   "cell_type": "code",
   "execution_count": 34,
   "id": "2e716d6f-3e14-4b6a-b1b8-072b28dbffd4",
   "metadata": {},
   "outputs": [
    {
     "data": {
      "text/plain": [
       "array(['Смартфон Apple iPhone 14 Pro Max 128Gb Silver (2sim)',\n",
       "       'Смартфон Apple iPhone 14 Pro 1024Gb Deep Purple (2sim)',\n",
       "       'Смартфон Apple iPhone 13 Pro Max 1TB Alpine Green',\n",
       "       'Смартфон Apple iPhone 14 Pro Max 128Gb Space Black (eSIM)',\n",
       "       'Смартфон Apple iPhone 13 Pro Max 512Gb Alpine green',\n",
       "       'Смартфон Apple iPhone 14 Pro Max 512Gb Gold (2sim)',\n",
       "       'Смартфон Apple iPhone 14 Pro 1024Gb Silver (eSIM)',\n",
       "       'Смартфон Apple iPhone 14 Pro Max 1024Gb Space Black (eSIM)',\n",
       "       'Смартфон Apple iPhone 14 Pro Max 1024Gb Deep Purple (2sim)',\n",
       "       'Смартфон Apple iPhone 14 Pro Max 512Gb Silver (2sim)'],\n",
       "      dtype='<U90')"
      ]
     },
     "execution_count": 34,
     "metadata": {},
     "output_type": "execute_result"
    }
   ],
   "source": [
    "test_search('apple iphone 14 pro max')[:10]"
   ]
  },
  {
   "cell_type": "code",
   "execution_count": 35,
   "id": "0d753668-e61b-40c7-829c-e9494f4e4f5d",
   "metadata": {},
   "outputs": [
    {
     "data": {
      "text/plain": [
       "array(['Xiaomi Смартфон Xiaomi Redmi 9A Granite Gray, 2/32GB',\n",
       "       'Смартфон Xiaomi Redmi 10C 4/128Gb, серый',\n",
       "       'Смартфон Xiaomi Redmi 9C Redmi 9C 2/32GB Lavender (R36600)',\n",
       "       'Смартфон Xiaomi Redmi 7A 2/16GB Blue',\n",
       "       'Смартфон Xiaomi 12 8/256GB Blue (37057)',\n",
       "       'Смартфон Xiaomi POCO M5 4/128GB Green',\n",
       "       'Смартфон Xiaomi Poco M5s 4/128Gb, голубой',\n",
       "       'Смартфон Xiaomi Redmi 8 32GB Onyx Black',\n",
       "       'Смартфон Xiaomi 13 Pro 12/256Gb White',\n",
       "       'Смартфон Xiaomi Redmi 10A 3/64GB Graphite Gray'], dtype='<U90')"
      ]
     },
     "execution_count": 35,
     "metadata": {},
     "output_type": "execute_result"
    }
   ],
   "source": [
    "test_search('xiaomi смартфон')[:10]"
   ]
  },
  {
   "cell_type": "code",
   "execution_count": 36,
   "id": "cd931b70-89b3-4e34-9e44-4e7512dacdf2",
   "metadata": {},
   "outputs": [
    {
     "data": {
      "text/plain": [
       "array(['Молоко 1,5% ультрапастеризованное 925 мл Домик в деревне БЗМЖ',\n",
       "       'Молоко Домик в деревне ультрапастеризованное 6%, 12 шт х 0,95 л',\n",
       "       'Молоко 3,5 - 4,5% коровье пастеризованное 930 мл Домик в деревне Отборное БЗМЖ',\n",
       "       'Творог Домик в деревне традиционный 9% 340 г',\n",
       "       'Сливки Домик в Деревне питьевые стерилизованные 10% БЗМЖ 200 мл',\n",
       "       'Кефир Домик в Деревне 2,5% 270 г',\n",
       "       'Яйцо куриное Кольцовское С1 10 шт',\n",
       "       'Молоко 3,7% пастеризованное 930 мл Домик в деревне Отборное',\n",
       "       'Молоко Домик в деревне ультрапастеризованное 2,5%, 12 шт х 0,950 л',\n",
       "       'Творог рассыпчатый Домик в Деревне отборный 9% 170 г'],\n",
       "      dtype='<U90')"
      ]
     },
     "execution_count": 36,
     "metadata": {},
     "output_type": "execute_result"
    }
   ],
   "source": [
    "test_search('молоко резня в деревне')[:10]"
   ]
  },
  {
   "cell_type": "markdown",
   "id": "8075bead-0b55-43df-899b-19725cc45787",
   "metadata": {},
   "source": [
    "Как видно, поиск отрабатывает адекватно."
   ]
  },
  {
   "cell_type": "code",
   "execution_count": 37,
   "id": "e2bf4070-ecd6-48f7-9eaa-50439a5db503",
   "metadata": {},
   "outputs": [],
   "source": [
    "index.save('models/biased_scaled_index')"
   ]
  },
  {
   "cell_type": "code",
   "execution_count": null,
   "id": "c5b22d5e-7199-41c5-93e1-7e8cac4d83eb",
   "metadata": {},
   "outputs": [],
   "source": []
  }
 ],
 "metadata": {
  "kernelspec": {
   "display_name": "Python 3 (ipykernel)",
   "language": "python",
   "name": "python3"
  },
  "language_info": {
   "codemirror_mode": {
    "name": "ipython",
    "version": 3
   },
   "file_extension": ".py",
   "mimetype": "text/x-python",
   "name": "python",
   "nbconvert_exporter": "python",
   "pygments_lexer": "ipython3",
   "version": "3.9.2"
  }
 },
 "nbformat": 4,
 "nbformat_minor": 5
}
