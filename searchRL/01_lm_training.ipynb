{
 "cells": [
  {
   "cell_type": "markdown",
   "id": "27c00edd-d57b-458b-b04c-79aae60a52ac",
   "metadata": {},
   "source": [
    "# Обучение языковой модели\n",
    "\n",
    "По ранее собранным данным поисковых запросов обучается языковая модель FastText, которая в дальнейшем используется в векторном поиске."
   ]
  },
  {
   "cell_type": "code",
   "execution_count": 8,
   "id": "fea2db44-a5dd-4aa2-86df-dfce983b9f0a",
   "metadata": {},
   "outputs": [],
   "source": [
    "import sys\n",
    "sys.path.append('src/')"
   ]
  },
  {
   "cell_type": "code",
   "execution_count": 2,
   "id": "ac231cd4-9b49-44b5-9f26-dc40a6c0941f",
   "metadata": {},
   "outputs": [],
   "source": [
    "from src.tokenizer import Tokenizer"
   ]
  },
  {
   "cell_type": "code",
   "execution_count": 3,
   "id": "377446ae-64a8-4b31-8ab2-5d8922caa842",
   "metadata": {},
   "outputs": [],
   "source": [
    "import pandas as pd\n",
    "from gensim.models import FastText\n",
    "from random import shuffle\n",
    "from tqdm.auto import tqdm\n",
    "\n",
    "tqdm.pandas()"
   ]
  },
  {
   "cell_type": "markdown",
   "id": "b344f9d3-c9ae-4db2-bd43-60de8d3d83ea",
   "metadata": {},
   "source": [
    "__Загрузка данных__"
   ]
  },
  {
   "cell_type": "code",
   "execution_count": 4,
   "id": "f02d1fcf-36cd-4f5f-ad12-cf306dd21f97",
   "metadata": {},
   "outputs": [],
   "source": [
    "tokenizer = Tokenizer()"
   ]
  },
  {
   "cell_type": "code",
   "execution_count": 5,
   "id": "f952655d-4645-41fd-9981-38d078ee1afc",
   "metadata": {},
   "outputs": [
    {
     "data": {
      "text/html": [
       "<div>\n",
       "<style scoped>\n",
       "    .dataframe tbody tr th:only-of-type {\n",
       "        vertical-align: middle;\n",
       "    }\n",
       "\n",
       "    .dataframe tbody tr th {\n",
       "        vertical-align: top;\n",
       "    }\n",
       "\n",
       "    .dataframe thead th {\n",
       "        text-align: right;\n",
       "    }\n",
       "</style>\n",
       "<table border=\"1\" class=\"dataframe\">\n",
       "  <thead>\n",
       "    <tr style=\"text-align: right;\">\n",
       "      <th></th>\n",
       "      <th>keyword</th>\n",
       "      <th>cnt</th>\n",
       "    </tr>\n",
       "  </thead>\n",
       "  <tbody>\n",
       "    <tr>\n",
       "      <th>0</th>\n",
       "      <td>0 0 2. почему вы не богатые если вы такие умны...</td>\n",
       "      <td>2</td>\n",
       "    </tr>\n",
       "    <tr>\n",
       "      <th>1</th>\n",
       "      <td>0 00 18 10 intro hp victus 1</td>\n",
       "      <td>16</td>\n",
       "    </tr>\n",
       "    <tr>\n",
       "      <th>2</th>\n",
       "      <td>0 0060 0</td>\n",
       "      <td>44</td>\n",
       "    </tr>\n",
       "    <tr>\n",
       "      <th>3</th>\n",
       "      <td>0 024</td>\n",
       "      <td>28</td>\n",
       "    </tr>\n",
       "    <tr>\n",
       "      <th>4</th>\n",
       "      <td>0 092 s30 070</td>\n",
       "      <td>1</td>\n",
       "    </tr>\n",
       "    <tr>\n",
       "      <th>...</th>\n",
       "      <td>...</td>\n",
       "      <td>...</td>\n",
       "    </tr>\n",
       "    <tr>\n",
       "      <th>3409680</th>\n",
       "      <td>𝐑𝟵 𝟕𝟵𝟎𝟎𝐗</td>\n",
       "      <td>8</td>\n",
       "    </tr>\n",
       "    <tr>\n",
       "      <th>3409681</th>\n",
       "      <td>𝐒𝐨𝐧𝐲 𝐏𝐥𝐚𝐲𝐒𝐭𝐚𝐭𝐢𝐨𝐧 5</td>\n",
       "      <td>57</td>\n",
       "    </tr>\n",
       "    <tr>\n",
       "      <th>3409682</th>\n",
       "      <td>𝙉𝙤𝙠𝙞𝙖 6300 4 𝙜</td>\n",
       "      <td>10</td>\n",
       "    </tr>\n",
       "    <tr>\n",
       "      <th>3409683</th>\n",
       "      <td>𝙲𝚌𝚏𝚎250</td>\n",
       "      <td>33</td>\n",
       "    </tr>\n",
       "    <tr>\n",
       "      <th>3409684</th>\n",
       "      <td>𝚁𝚊𝚣𝚎𝚛 𝙺𝚒𝚢𝚘</td>\n",
       "      <td>5</td>\n",
       "    </tr>\n",
       "  </tbody>\n",
       "</table>\n",
       "<p>3409685 rows × 2 columns</p>\n",
       "</div>"
      ],
      "text/plain": [
       "                                                   keyword  cnt\n",
       "0        0 0 2. почему вы не богатые если вы такие умны...    2\n",
       "1                             0 00 18 10 intro hp victus 1   16\n",
       "2                                                 0 0060 0   44\n",
       "3                                                    0 024   28\n",
       "4                                            0 092 s30 070    1\n",
       "...                                                    ...  ...\n",
       "3409680                                           𝐑𝟵 𝟕𝟵𝟎𝟎𝐗    8\n",
       "3409681                                 𝐒𝐨𝐧𝐲 𝐏𝐥𝐚𝐲𝐒𝐭𝐚𝐭𝐢𝐨𝐧 5   57\n",
       "3409682                                     𝙉𝙤𝙠𝙞𝙖 6300 4 𝙜   10\n",
       "3409683                                            𝙲𝚌𝚏𝚎250   33\n",
       "3409684                                         𝚁𝚊𝚣𝚎𝚛 𝙺𝚒𝚢𝚘    5\n",
       "\n",
       "[3409685 rows x 2 columns]"
      ]
     },
     "execution_count": 5,
     "metadata": {},
     "output_type": "execute_result"
    }
   ],
   "source": [
    "data = pd.read_parquet('data/keywords.parquet')\n",
    "data"
   ]
  },
  {
   "cell_type": "markdown",
   "id": "d1435543-002a-42a7-ba00-b6e59375fc21",
   "metadata": {},
   "source": [
    "__Токенизация__"
   ]
  },
  {
   "cell_type": "code",
   "execution_count": null,
   "id": "90597a36-dc10-470d-a54c-ea92739fa0dd",
   "metadata": {},
   "outputs": [
    {
     "data": {
      "application/vnd.jupyter.widget-view+json": {
       "model_id": "aff848bd67e04ae093fc7f74b7dddcdb",
       "version_major": 2,
       "version_minor": 0
      },
      "text/plain": [
       "  0%|          | 0/3409685 [00:00<?, ?it/s]"
      ]
     },
     "metadata": {},
     "output_type": "display_data"
    }
   ],
   "source": [
    "data['tokens'] = data.keyword.progress_apply(tokenizer.tokenize)"
   ]
  },
  {
   "cell_type": "markdown",
   "id": "d60e06d5-afab-41b0-b9a6-161e8bb96410",
   "metadata": {},
   "source": [
    "__Фильтрация пустых запросов__"
   ]
  },
  {
   "cell_type": "code",
   "execution_count": 10,
   "id": "7d472e5a-2167-4de9-87b9-a56726bfc4f3",
   "metadata": {},
   "outputs": [],
   "source": [
    "data = data[data.tokens.apply(lambda x: len(x) > 0)]"
   ]
  },
  {
   "cell_type": "markdown",
   "id": "bfe3a35f-2ab1-4283-a02f-7609b9bddf7e",
   "metadata": {},
   "source": [
    "__Формирование корпуса токенов__"
   ]
  },
  {
   "cell_type": "code",
   "execution_count": 12,
   "id": "a739f779-dc35-4769-ab28-76f7427c7080",
   "metadata": {},
   "outputs": [
    {
     "data": {
      "application/vnd.jupyter.widget-view+json": {
       "model_id": "9e64821115a349b196a237d54dc9c8ea",
       "version_major": 2,
       "version_minor": 0
      },
      "text/plain": [
       "  0%|          | 0/3409654 [00:00<?, ?it/s]"
      ]
     },
     "metadata": {},
     "output_type": "display_data"
    },
    {
     "data": {
      "text/plain": [
       "624982722"
      ]
     },
     "execution_count": 12,
     "metadata": {},
     "output_type": "execute_result"
    }
   ],
   "source": [
    "corpus = []\n",
    "for tokens, cnt in tqdm(data[['tokens', 'cnt']].values):\n",
    "    corpus += [tokens] * cnt\n",
    "shuffle(corpus)\n",
    "len(corpus)"
   ]
  },
  {
   "cell_type": "markdown",
   "id": "f0bf744b-e5aa-4409-93e5-2a47a19e0a4b",
   "metadata": {},
   "source": [
    "__Обучение модели__"
   ]
  },
  {
   "cell_type": "code",
   "execution_count": 14,
   "id": "b8064805-0f5d-441e-9c86-d5627961c95b",
   "metadata": {},
   "outputs": [],
   "source": [
    "model = FastText(\n",
    "    sentences=corpus,\n",
    "    vector_size=100,\n",
    "    window=3,\n",
    "    min_count=10,\n",
    "    workers=32,\n",
    "    epochs=10,\n",
    "    negative=3,\n",
    "    sg=1\n",
    ")"
   ]
  },
  {
   "cell_type": "code",
   "execution_count": 15,
   "id": "da3cd878-9264-4aae-a426-78203b831252",
   "metadata": {},
   "outputs": [],
   "source": [
    "model.save('models/lm')"
   ]
  },
  {
   "cell_type": "markdown",
   "id": "4713a7ea-96b2-44f2-be15-8bbc138e35b2",
   "metadata": {},
   "source": [
    "__Проверка модели на адекватность__"
   ]
  },
  {
   "cell_type": "code",
   "execution_count": 26,
   "id": "6a23f1d6-d3a5-4efb-9833-614c81f0ddfa",
   "metadata": {},
   "outputs": [
    {
     "data": {
      "text/plain": [
       "[('xiaomi', 0.9255608916282654),\n",
       " ('xioaomi', 0.8939005136489868),\n",
       " ('xiaomixiaomi', 0.885464072227478),\n",
       " ('wiaomi', 0.8630273938179016),\n",
       " ('xiami', 0.85608971118927),\n",
       " ('xiaommi', 0.8536121249198914),\n",
       " ('сяом', 0.8519089818000793),\n",
       " ('xiiaomi', 0.8509979844093323),\n",
       " ('xiaomj', 0.8475507497787476),\n",
       " ('vxiaomi', 0.845581591129303)]"
      ]
     },
     "execution_count": 26,
     "metadata": {},
     "output_type": "execute_result"
    }
   ],
   "source": [
    "model.wv.most_similar('xiomi')"
   ]
  },
  {
   "cell_type": "code",
   "execution_count": 42,
   "id": "d5238627-0226-4235-839e-2cab95ae0684",
   "metadata": {},
   "outputs": [
    {
     "data": {
      "text/plain": [
       "(0.7063806354999542, 0.4842911958694458)"
      ]
     },
     "execution_count": 42,
     "metadata": {},
     "output_type": "execute_result"
    }
   ],
   "source": [
    "model.wv.distance('xiaomi', 'смартфон'), model.wv.distance('iphone', 'смартфон')"
   ]
  },
  {
   "cell_type": "code",
   "execution_count": null,
   "id": "9c0ebc1d-cfba-4bce-94da-cd4ffd950275",
   "metadata": {},
   "outputs": [],
   "source": []
  }
 ],
 "metadata": {
  "kernelspec": {
   "display_name": "Python 3 (ipykernel)",
   "language": "python",
   "name": "python3"
  },
  "language_info": {
   "codemirror_mode": {
    "name": "ipython",
    "version": 3
   },
   "file_extension": ".py",
   "mimetype": "text/x-python",
   "name": "python",
   "nbconvert_exporter": "python",
   "pygments_lexer": "ipython3",
   "version": "3.9.2"
  }
 },
 "nbformat": 4,
 "nbformat_minor": 5
}
