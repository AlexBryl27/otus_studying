{
 "cells": [
  {
   "cell_type": "markdown",
   "id": "6b218616-e105-419d-a833-bf6435bff73c",
   "metadata": {},
   "source": [
    "# Получение тренировочных и тестовых данных\n",
    "\n",
    "Исходные данные представляют из себя логи взаимодействия пользователя с товаром.\n",
    "\n",
    "Имеющиеся признаки:\n",
    "* session_id - ID сессии пользователя\n",
    "* item_id - ID товара\n",
    "* event_name - тип события, которое произвел пользователь с товаром. Всего может быть 4 события:\n",
    "    1. view_item_list - просмотр товара\n",
    "    2. select_item - клик по товару\n",
    "    3. add_to_wishlist - добавление товара к списку \"избранное\"\n",
    "    4. add_to_cart - добавление в корзину\n",
    "* keyword - строка запроса пользователя\n",
    "\n",
    "Для формирования таргета (релевантности товара запросу) событиям дается искусственный вес. Например, добавление в корзину считается самым важным показателем релевантности товара запросу, поэтому имеет большой вес. Напротив, просмотр не говорит о релевантности ничего, т.к. такое событие логируется всегда, даже в том случае, когда поисковая выдача абсолютно нерелевантна запросу."
   ]
  },
  {
   "cell_type": "code",
   "execution_count": 1,
   "id": "4ce8073a-4e19-4069-8ca4-4bf80f2f9e74",
   "metadata": {},
   "outputs": [],
   "source": [
    "import sys\n",
    "sys.path.append('src/')"
   ]
  },
  {
   "cell_type": "code",
   "execution_count": 2,
   "id": "1295c328-c9b3-4b89-91bc-e4e315d60800",
   "metadata": {},
   "outputs": [],
   "source": [
    "from src.tokenizer import Tokenizer"
   ]
  },
  {
   "cell_type": "code",
   "execution_count": 3,
   "id": "66f9bf2f-9159-4ffc-b935-91c08fb8732a",
   "metadata": {},
   "outputs": [],
   "source": [
    "import pandas as pd\n",
    "import re\n",
    "from itertools import groupby\n",
    "import numpy as np\n",
    "from sklearn.preprocessing import minmax_scale\n",
    "from tqdm.auto import tqdm\n",
    "\n",
    "tqdm.pandas()"
   ]
  },
  {
   "cell_type": "markdown",
   "id": "2b0476dd-488f-4b92-af38-8f3cdb8267bd",
   "metadata": {},
   "source": [
    "## 1. Data loading and processing"
   ]
  },
  {
   "cell_type": "code",
   "execution_count": 4,
   "id": "929331f8-edcb-4cd7-a5d3-fff3522ed731",
   "metadata": {},
   "outputs": [],
   "source": [
    "tokenizer = Tokenizer()"
   ]
  },
  {
   "cell_type": "code",
   "execution_count": 5,
   "id": "6fed22df-122b-470c-86e7-2e77c9dead86",
   "metadata": {},
   "outputs": [],
   "source": [
    "def normalize_keyword(keyword):\n",
    "    return ' '.join(sorted(tokenizer.tokenize(keyword)))"
   ]
  },
  {
   "cell_type": "markdown",
   "id": "b60e9ebd-05bc-4afb-a767-2178033f7554",
   "metadata": {},
   "source": [
    "Нормализация запроса необходима для снижения количества уникальных запросов. Поисковой системе все равно в каком порядке идут токены запроса."
   ]
  },
  {
   "cell_type": "code",
   "execution_count": 6,
   "id": "8850ad1e-8be3-49db-9aeb-fbae06592e1f",
   "metadata": {},
   "outputs": [
    {
     "data": {
      "text/plain": [
       "'аврор игрушечн солдатик'"
      ]
     },
     "execution_count": 6,
     "metadata": {},
     "output_type": "execute_result"
    }
   ],
   "source": [
    "normalize_keyword('игрушечные солдатики аврора')"
   ]
  },
  {
   "cell_type": "markdown",
   "id": "49b52304-01fc-49d9-a543-e9aebbb8aeef",
   "metadata": {},
   "source": [
    "Данные загружены ранее и в открытый доступ не выложены."
   ]
  },
  {
   "cell_type": "code",
   "execution_count": 7,
   "id": "3f8df69c-6383-493a-a2b0-c122a0acb068",
   "metadata": {},
   "outputs": [
    {
     "data": {
      "text/html": [
       "<div>\n",
       "<style scoped>\n",
       "    .dataframe tbody tr th:only-of-type {\n",
       "        vertical-align: middle;\n",
       "    }\n",
       "\n",
       "    .dataframe tbody tr th {\n",
       "        vertical-align: top;\n",
       "    }\n",
       "\n",
       "    .dataframe thead th {\n",
       "        text-align: right;\n",
       "    }\n",
       "</style>\n",
       "<table border=\"1\" class=\"dataframe\">\n",
       "  <thead>\n",
       "    <tr style=\"text-align: right;\">\n",
       "      <th></th>\n",
       "      <th>session_id</th>\n",
       "      <th>item_id</th>\n",
       "      <th>event_name</th>\n",
       "      <th>keyword</th>\n",
       "    </tr>\n",
       "  </thead>\n",
       "  <tbody>\n",
       "    <tr>\n",
       "      <th>0</th>\n",
       "      <td>7582292472044581353</td>\n",
       "      <td>100029543366</td>\n",
       "      <td>view_item_list</td>\n",
       "      <td>мужская одежда gonso</td>\n",
       "    </tr>\n",
       "    <tr>\n",
       "      <th>1</th>\n",
       "      <td>7582292472044581353</td>\n",
       "      <td>100029694703</td>\n",
       "      <td>view_item_list</td>\n",
       "      <td>мужская одежда gonso</td>\n",
       "    </tr>\n",
       "    <tr>\n",
       "      <th>2</th>\n",
       "      <td>7582292472044581353</td>\n",
       "      <td>600001966244</td>\n",
       "      <td>view_item_list</td>\n",
       "      <td>мужская одежда gonso</td>\n",
       "    </tr>\n",
       "    <tr>\n",
       "      <th>3</th>\n",
       "      <td>7582292472044581353</td>\n",
       "      <td>600009509295</td>\n",
       "      <td>view_item_list</td>\n",
       "      <td>мужская одежда gonso</td>\n",
       "    </tr>\n",
       "    <tr>\n",
       "      <th>4</th>\n",
       "      <td>7582292472044581353</td>\n",
       "      <td>100027431389</td>\n",
       "      <td>view_item_list</td>\n",
       "      <td>мужская одежда gonso</td>\n",
       "    </tr>\n",
       "    <tr>\n",
       "      <th>...</th>\n",
       "      <td>...</td>\n",
       "      <td>...</td>\n",
       "      <td>...</td>\n",
       "      <td>...</td>\n",
       "    </tr>\n",
       "    <tr>\n",
       "      <th>181617314</th>\n",
       "      <td>9056125625193781695</td>\n",
       "      <td>600003422371</td>\n",
       "      <td>view_item_list</td>\n",
       "      <td>111.01924.1</td>\n",
       "    </tr>\n",
       "    <tr>\n",
       "      <th>181617315</th>\n",
       "      <td>-753829019918929680</td>\n",
       "      <td>100024263287</td>\n",
       "      <td>select_item</td>\n",
       "      <td>kt-2208</td>\n",
       "    </tr>\n",
       "    <tr>\n",
       "      <th>181617316</th>\n",
       "      <td>-2141953844129662156</td>\n",
       "      <td>600011516505</td>\n",
       "      <td>select_item</td>\n",
       "      <td>gz88037-c</td>\n",
       "    </tr>\n",
       "    <tr>\n",
       "      <th>181617317</th>\n",
       "      <td>2210722118130960975</td>\n",
       "      <td>100028427005</td>\n",
       "      <td>select_item</td>\n",
       "      <td>карат карамельный</td>\n",
       "    </tr>\n",
       "    <tr>\n",
       "      <th>181617318</th>\n",
       "      <td>2021240044529928885</td>\n",
       "      <td>600006489529</td>\n",
       "      <td>add_to_cart</td>\n",
       "      <td>600006489529</td>\n",
       "    </tr>\n",
       "  </tbody>\n",
       "</table>\n",
       "<p>181617319 rows × 4 columns</p>\n",
       "</div>"
      ],
      "text/plain": [
       "                     session_id       item_id      event_name  \\\n",
       "0           7582292472044581353  100029543366  view_item_list   \n",
       "1           7582292472044581353  100029694703  view_item_list   \n",
       "2           7582292472044581353  600001966244  view_item_list   \n",
       "3           7582292472044581353  600009509295  view_item_list   \n",
       "4           7582292472044581353  100027431389  view_item_list   \n",
       "...                         ...           ...             ...   \n",
       "181617314   9056125625193781695  600003422371  view_item_list   \n",
       "181617315   -753829019918929680  100024263287     select_item   \n",
       "181617316  -2141953844129662156  600011516505     select_item   \n",
       "181617317   2210722118130960975  100028427005     select_item   \n",
       "181617318   2021240044529928885  600006489529     add_to_cart   \n",
       "\n",
       "                        keyword  \n",
       "0          мужская одежда gonso  \n",
       "1          мужская одежда gonso  \n",
       "2          мужская одежда gonso  \n",
       "3          мужская одежда gonso  \n",
       "4          мужская одежда gonso  \n",
       "...                         ...  \n",
       "181617314           111.01924.1  \n",
       "181617315               kt-2208  \n",
       "181617316             gz88037-c  \n",
       "181617317     карат карамельный  \n",
       "181617318          600006489529  \n",
       "\n",
       "[181617319 rows x 4 columns]"
      ]
     },
     "execution_count": 7,
     "metadata": {},
     "output_type": "execute_result"
    }
   ],
   "source": [
    "df = pd.read_parquet('data/user_data.parquet')\n",
    "df"
   ]
  },
  {
   "cell_type": "markdown",
   "id": "91310f3f-969f-44de-8f6e-740a4a492c5b",
   "metadata": {},
   "source": [
    "Маппинг весов событий:"
   ]
  },
  {
   "cell_type": "code",
   "execution_count": 8,
   "id": "3bababc6-a051-4cfd-976f-80fb26baa10d",
   "metadata": {},
   "outputs": [],
   "source": [
    "event_mapping = {'add_to_cart': 100, 'add_to_wishlist': 10, 'select_item': 1, 'view_item_list': 0}"
   ]
  },
  {
   "cell_type": "code",
   "execution_count": 9,
   "id": "362c8b00-ab52-4f68-92bd-e80e0bdf9f2d",
   "metadata": {},
   "outputs": [],
   "source": [
    "df['event_relevance'] = df.event_name.map(event_mapping)"
   ]
  },
  {
   "cell_type": "markdown",
   "id": "1ae7ac94-d19c-4bce-9e8d-3b41b6af207d",
   "metadata": {},
   "source": [
    "Токенизация и фильтрация:"
   ]
  },
  {
   "cell_type": "code",
   "execution_count": 10,
   "id": "7ab17003-ff9a-4a68-b5d5-59b0e5fbc436",
   "metadata": {},
   "outputs": [
    {
     "data": {
      "application/vnd.jupyter.widget-view+json": {
       "model_id": "e18eda3aac1f4e01a6c4917618594dfd",
       "version_major": 2,
       "version_minor": 0
      },
      "text/plain": [
       "  0%|          | 0/1331342 [00:00<?, ?it/s]"
      ]
     },
     "metadata": {},
     "output_type": "display_data"
    }
   ],
   "source": [
    "tmp = df[['keyword']].drop_duplicates()\n",
    "tmp = tmp[tmp.keyword.apply(lambda x: False if re.match('^\\d+$', x) else True)].reset_index(drop=True)\n",
    "tmp['norm_keyword'] = tmp.keyword.progress_apply(normalize_keyword)"
   ]
  },
  {
   "cell_type": "code",
   "execution_count": 11,
   "id": "12cea8cd-bb9b-4781-b620-00bf08b64757",
   "metadata": {},
   "outputs": [
    {
     "data": {
      "text/html": [
       "<div>\n",
       "<style scoped>\n",
       "    .dataframe tbody tr th:only-of-type {\n",
       "        vertical-align: middle;\n",
       "    }\n",
       "\n",
       "    .dataframe tbody tr th {\n",
       "        vertical-align: top;\n",
       "    }\n",
       "\n",
       "    .dataframe thead th {\n",
       "        text-align: right;\n",
       "    }\n",
       "</style>\n",
       "<table border=\"1\" class=\"dataframe\">\n",
       "  <thead>\n",
       "    <tr style=\"text-align: right;\">\n",
       "      <th></th>\n",
       "      <th>session_id</th>\n",
       "      <th>item_id</th>\n",
       "      <th>event_name</th>\n",
       "      <th>keyword</th>\n",
       "      <th>event_relevance</th>\n",
       "      <th>norm_keyword</th>\n",
       "    </tr>\n",
       "  </thead>\n",
       "  <tbody>\n",
       "    <tr>\n",
       "      <th>0</th>\n",
       "      <td>7582292472044581353</td>\n",
       "      <td>100029543366</td>\n",
       "      <td>view_item_list</td>\n",
       "      <td>мужская одежда gonso</td>\n",
       "      <td>0</td>\n",
       "      <td>gonso мужск одежд</td>\n",
       "    </tr>\n",
       "    <tr>\n",
       "      <th>1</th>\n",
       "      <td>7582292472044581353</td>\n",
       "      <td>100029694703</td>\n",
       "      <td>view_item_list</td>\n",
       "      <td>мужская одежда gonso</td>\n",
       "      <td>0</td>\n",
       "      <td>gonso мужск одежд</td>\n",
       "    </tr>\n",
       "    <tr>\n",
       "      <th>2</th>\n",
       "      <td>7582292472044581353</td>\n",
       "      <td>600001966244</td>\n",
       "      <td>view_item_list</td>\n",
       "      <td>мужская одежда gonso</td>\n",
       "      <td>0</td>\n",
       "      <td>gonso мужск одежд</td>\n",
       "    </tr>\n",
       "    <tr>\n",
       "      <th>3</th>\n",
       "      <td>7582292472044581353</td>\n",
       "      <td>600009509295</td>\n",
       "      <td>view_item_list</td>\n",
       "      <td>мужская одежда gonso</td>\n",
       "      <td>0</td>\n",
       "      <td>gonso мужск одежд</td>\n",
       "    </tr>\n",
       "    <tr>\n",
       "      <th>4</th>\n",
       "      <td>7582292472044581353</td>\n",
       "      <td>100027431389</td>\n",
       "      <td>view_item_list</td>\n",
       "      <td>мужская одежда gonso</td>\n",
       "      <td>0</td>\n",
       "      <td>gonso мужск одежд</td>\n",
       "    </tr>\n",
       "  </tbody>\n",
       "</table>\n",
       "</div>"
      ],
      "text/plain": [
       "            session_id       item_id      event_name               keyword  \\\n",
       "0  7582292472044581353  100029543366  view_item_list  мужская одежда gonso   \n",
       "1  7582292472044581353  100029694703  view_item_list  мужская одежда gonso   \n",
       "2  7582292472044581353  600001966244  view_item_list  мужская одежда gonso   \n",
       "3  7582292472044581353  600009509295  view_item_list  мужская одежда gonso   \n",
       "4  7582292472044581353  100027431389  view_item_list  мужская одежда gonso   \n",
       "\n",
       "   event_relevance       norm_keyword  \n",
       "0                0  gonso мужск одежд  \n",
       "1                0  gonso мужск одежд  \n",
       "2                0  gonso мужск одежд  \n",
       "3                0  gonso мужск одежд  \n",
       "4                0  gonso мужск одежд  "
      ]
     },
     "execution_count": 11,
     "metadata": {},
     "output_type": "execute_result"
    }
   ],
   "source": [
    "df = df.merge(tmp, on=['keyword']).dropna()\n",
    "df.head()"
   ]
  },
  {
   "cell_type": "code",
   "execution_count": 12,
   "id": "9cacf0e8-51f0-48cb-9c15-a52da1e97943",
   "metadata": {},
   "outputs": [
    {
     "data": {
      "text/plain": [
       "(181615813, 6)"
      ]
     },
     "execution_count": 12,
     "metadata": {},
     "output_type": "execute_result"
    }
   ],
   "source": [
    "df.shape"
   ]
  },
  {
   "cell_type": "markdown",
   "id": "348d674a-bf7d-432f-a691-d2d0db3c6e07",
   "metadata": {},
   "source": [
    "## 2. Target calculating\n",
    "### 2.1. Session processing\n",
    "Для начала суммируется вес событий в рамках сессии для пар запрос - товар."
   ]
  },
  {
   "cell_type": "code",
   "execution_count": 13,
   "id": "46d9c770-8f16-46c5-abb4-8cc2e414ac2a",
   "metadata": {},
   "outputs": [
    {
     "name": "stdout",
     "output_type": "stream",
     "text": [
      "CPU times: user 2min 29s, sys: 29.4 s, total: 2min 59s\n",
      "Wall time: 2min 58s\n"
     ]
    }
   ],
   "source": [
    "%%time\n",
    "df = df.sort_values(['session_id', 'norm_keyword', 'item_id']).reset_index(drop=True)"
   ]
  },
  {
   "cell_type": "code",
   "execution_count": 14,
   "id": "d61d72e1-eb33-4f97-8350-8ebaff6a719e",
   "metadata": {},
   "outputs": [
    {
     "data": {
      "application/vnd.jupyter.widget-view+json": {
       "model_id": "d0cf5b0f638d45b7a105019046bdafe8",
       "version_major": 2,
       "version_minor": 0
      },
      "text/plain": [
       "  0%|          | 0/2763732 [00:00<?, ?it/s]"
      ]
     },
     "metadata": {},
     "output_type": "display_data"
    },
    {
     "name": "stdout",
     "output_type": "stream",
     "text": [
      "CPU times: user 4min 4s, sys: 17.5 s, total: 4min 22s\n",
      "Wall time: 4min 19s\n"
     ]
    }
   ],
   "source": [
    "%%time\n",
    "relevance_data = []\n",
    "for _, session in tqdm(groupby(df.itertuples(), key=lambda x: x[1]), total=df.session_id.nunique()):\n",
    "    session = list(session)\n",
    "    # фильтрация сессий только с просмотрами\n",
    "    if sum([x.event_relevance for x in session]) == 0:\n",
    "        continue\n",
    "    # суммирование весов событий в рамках сессий для пар запрос-товар\n",
    "    # перебор в цикле быстрее группировки\n",
    "    prev_id = session[0].item_id\n",
    "    prev_keyword = session[0].norm_keyword\n",
    "    tmp = [[prev_keyword, prev_id, 0]]\n",
    "    for row in session:\n",
    "        if row.norm_keyword == prev_keyword:\n",
    "            if row.item_id == prev_id:\n",
    "                tmp[-1][-1] += row.event_relevance\n",
    "            else:\n",
    "                tmp.append([row.norm_keyword, row.item_id, row.event_relevance])\n",
    "                prev_id = row.item_id\n",
    "        else:\n",
    "            tmp.append([row.norm_keyword, row.item_id, row.event_relevance])\n",
    "            prev_id = row.item_id\n",
    "            prev_keyword = row.norm_keyword\n",
    "    relevance_data += tmp"
   ]
  },
  {
   "cell_type": "code",
   "execution_count": 15,
   "id": "c07880ee-1378-4954-ad51-07b74c2e95ae",
   "metadata": {},
   "outputs": [
    {
     "data": {
      "text/plain": [
       "125063396"
      ]
     },
     "execution_count": 15,
     "metadata": {},
     "output_type": "execute_result"
    }
   ],
   "source": [
    "len(relevance_data)"
   ]
  },
  {
   "cell_type": "code",
   "execution_count": 16,
   "id": "853daffa-65bf-49f6-8297-875ab608c7d8",
   "metadata": {},
   "outputs": [
    {
     "data": {
      "text/html": [
       "<div>\n",
       "<style scoped>\n",
       "    .dataframe tbody tr th:only-of-type {\n",
       "        vertical-align: middle;\n",
       "    }\n",
       "\n",
       "    .dataframe tbody tr th {\n",
       "        vertical-align: top;\n",
       "    }\n",
       "\n",
       "    .dataframe thead th {\n",
       "        text-align: right;\n",
       "    }\n",
       "</style>\n",
       "<table border=\"1\" class=\"dataframe\">\n",
       "  <thead>\n",
       "    <tr style=\"text-align: right;\">\n",
       "      <th></th>\n",
       "      <th>keyword</th>\n",
       "      <th>item_id</th>\n",
       "      <th>relevance</th>\n",
       "    </tr>\n",
       "  </thead>\n",
       "  <tbody>\n",
       "    <tr>\n",
       "      <th>0</th>\n",
       "      <td>10 grandorf для кг корм собак</td>\n",
       "      <td>100001276483</td>\n",
       "      <td>0</td>\n",
       "    </tr>\n",
       "    <tr>\n",
       "      <th>1</th>\n",
       "      <td>10 grandorf для кг корм собак</td>\n",
       "      <td>100001276610</td>\n",
       "      <td>0</td>\n",
       "    </tr>\n",
       "    <tr>\n",
       "      <th>2</th>\n",
       "      <td>10 grandorf для кг корм собак</td>\n",
       "      <td>100023050564</td>\n",
       "      <td>0</td>\n",
       "    </tr>\n",
       "    <tr>\n",
       "      <th>3</th>\n",
       "      <td>10 grandorf для кг корм собак</td>\n",
       "      <td>100027339188</td>\n",
       "      <td>0</td>\n",
       "    </tr>\n",
       "    <tr>\n",
       "      <th>4</th>\n",
       "      <td>10 grandorf для кг корм собак</td>\n",
       "      <td>100028116091</td>\n",
       "      <td>0</td>\n",
       "    </tr>\n",
       "    <tr>\n",
       "      <th>...</th>\n",
       "      <td>...</td>\n",
       "      <td>...</td>\n",
       "      <td>...</td>\n",
       "    </tr>\n",
       "    <tr>\n",
       "      <th>125063391</th>\n",
       "      <td>для кошек план про стерилизова утк</td>\n",
       "      <td>100028667613</td>\n",
       "      <td>0</td>\n",
       "    </tr>\n",
       "    <tr>\n",
       "      <th>125063392</th>\n",
       "      <td>для кошек план про стерилизова утк</td>\n",
       "      <td>100039726094</td>\n",
       "      <td>0</td>\n",
       "    </tr>\n",
       "    <tr>\n",
       "      <th>125063393</th>\n",
       "      <td>для кошек план про стерилизова утк</td>\n",
       "      <td>100042110881</td>\n",
       "      <td>0</td>\n",
       "    </tr>\n",
       "    <tr>\n",
       "      <th>125063394</th>\n",
       "      <td>для кошек план про стерилизова утк</td>\n",
       "      <td>100046676947</td>\n",
       "      <td>0</td>\n",
       "    </tr>\n",
       "    <tr>\n",
       "      <th>125063395</th>\n",
       "      <td>для кошек план про стерилизова утк</td>\n",
       "      <td>600001066182</td>\n",
       "      <td>0</td>\n",
       "    </tr>\n",
       "  </tbody>\n",
       "</table>\n",
       "<p>125063396 rows × 3 columns</p>\n",
       "</div>"
      ],
      "text/plain": [
       "                                      keyword       item_id  relevance\n",
       "0               10 grandorf для кг корм собак  100001276483          0\n",
       "1               10 grandorf для кг корм собак  100001276610          0\n",
       "2               10 grandorf для кг корм собак  100023050564          0\n",
       "3               10 grandorf для кг корм собак  100027339188          0\n",
       "4               10 grandorf для кг корм собак  100028116091          0\n",
       "...                                       ...           ...        ...\n",
       "125063391  для кошек план про стерилизова утк  100028667613          0\n",
       "125063392  для кошек план про стерилизова утк  100039726094          0\n",
       "125063393  для кошек план про стерилизова утк  100042110881          0\n",
       "125063394  для кошек план про стерилизова утк  100046676947          0\n",
       "125063395  для кошек план про стерилизова утк  600001066182          0\n",
       "\n",
       "[125063396 rows x 3 columns]"
      ]
     },
     "execution_count": 16,
     "metadata": {},
     "output_type": "execute_result"
    }
   ],
   "source": [
    "relevance_data = pd.DataFrame(relevance_data, columns=['keyword', 'item_id', 'relevance'])\n",
    "relevance_data"
   ]
  },
  {
   "cell_type": "code",
   "execution_count": 17,
   "id": "bd0b8db2-829a-4278-bc7c-453ec3ad2e72",
   "metadata": {},
   "outputs": [],
   "source": [
    "relevance_data.to_parquet('data/relevance_data.parquet', index=False)"
   ]
  },
  {
   "cell_type": "markdown",
   "id": "603f44b5-813e-49d4-84eb-67349ba955c6",
   "metadata": {},
   "source": [
    "### 2.2. Pairs aggregating\n",
    "Для каждой пары запрос-товар таргет - усредненное значение весов. На данном этапе на среднее значение сильно влиияют просмотры (события с нулевым весом)."
   ]
  },
  {
   "cell_type": "code",
   "execution_count": 4,
   "id": "20fa6641-4b8a-4545-8b7a-1f111a8ee60b",
   "metadata": {},
   "outputs": [],
   "source": [
    "relevance_data = pd.read_parquet('data/relevance_data.parquet')"
   ]
  },
  {
   "cell_type": "code",
   "execution_count": 5,
   "id": "f764f528-d52a-47be-8fa0-1498a5ada40e",
   "metadata": {},
   "outputs": [
    {
     "name": "stdout",
     "output_type": "stream",
     "text": [
      "CPU times: user 42.4 s, sys: 8.23 s, total: 50.6 s\n",
      "Wall time: 50.6 s\n"
     ]
    }
   ],
   "source": [
    "%%time\n",
    "relevance_data = relevance_data.groupby(['keyword', 'item_id']).relevance.mean()"
   ]
  },
  {
   "cell_type": "code",
   "execution_count": 6,
   "id": "525e0f3c-c96a-4a83-8f97-f5ebceac2e3c",
   "metadata": {},
   "outputs": [
    {
     "data": {
      "text/html": [
       "<div>\n",
       "<style scoped>\n",
       "    .dataframe tbody tr th:only-of-type {\n",
       "        vertical-align: middle;\n",
       "    }\n",
       "\n",
       "    .dataframe tbody tr th {\n",
       "        vertical-align: top;\n",
       "    }\n",
       "\n",
       "    .dataframe thead th {\n",
       "        text-align: right;\n",
       "    }\n",
       "</style>\n",
       "<table border=\"1\" class=\"dataframe\">\n",
       "  <thead>\n",
       "    <tr style=\"text-align: right;\">\n",
       "      <th></th>\n",
       "      <th>keyword</th>\n",
       "      <th>item_id</th>\n",
       "      <th>relevance</th>\n",
       "    </tr>\n",
       "  </thead>\n",
       "  <tbody>\n",
       "    <tr>\n",
       "      <th>0</th>\n",
       "      <td></td>\n",
       "      <td>100001322409</td>\n",
       "      <td>0.0</td>\n",
       "    </tr>\n",
       "    <tr>\n",
       "      <th>1</th>\n",
       "      <td></td>\n",
       "      <td>100001323818</td>\n",
       "      <td>0.0</td>\n",
       "    </tr>\n",
       "    <tr>\n",
       "      <th>2</th>\n",
       "      <td></td>\n",
       "      <td>100001325451</td>\n",
       "      <td>0.0</td>\n",
       "    </tr>\n",
       "    <tr>\n",
       "      <th>3</th>\n",
       "      <td></td>\n",
       "      <td>100013201860</td>\n",
       "      <td>0.0</td>\n",
       "    </tr>\n",
       "    <tr>\n",
       "      <th>4</th>\n",
       "      <td></td>\n",
       "      <td>100016182586</td>\n",
       "      <td>0.0</td>\n",
       "    </tr>\n",
       "    <tr>\n",
       "      <th>...</th>\n",
       "      <td>...</td>\n",
       "      <td>...</td>\n",
       "      <td>...</td>\n",
       "    </tr>\n",
       "    <tr>\n",
       "      <th>42806217</th>\n",
       "      <td>яюлок</td>\n",
       "      <td>100045468513</td>\n",
       "      <td>0.0</td>\n",
       "    </tr>\n",
       "    <tr>\n",
       "      <th>42806218</th>\n",
       "      <td>яюлок</td>\n",
       "      <td>100045557506</td>\n",
       "      <td>0.0</td>\n",
       "    </tr>\n",
       "    <tr>\n",
       "      <th>42806219</th>\n",
       "      <td>яюлок</td>\n",
       "      <td>600001822330</td>\n",
       "      <td>0.0</td>\n",
       "    </tr>\n",
       "    <tr>\n",
       "      <th>42806220</th>\n",
       "      <td>яягод</td>\n",
       "      <td>100029578096</td>\n",
       "      <td>0.0</td>\n",
       "    </tr>\n",
       "    <tr>\n",
       "      <th>42806221</th>\n",
       "      <td>яягод</td>\n",
       "      <td>100029841982</td>\n",
       "      <td>0.0</td>\n",
       "    </tr>\n",
       "  </tbody>\n",
       "</table>\n",
       "<p>42806222 rows × 3 columns</p>\n",
       "</div>"
      ],
      "text/plain": [
       "         keyword       item_id  relevance\n",
       "0                 100001322409        0.0\n",
       "1                 100001323818        0.0\n",
       "2                 100001325451        0.0\n",
       "3                 100013201860        0.0\n",
       "4                 100016182586        0.0\n",
       "...          ...           ...        ...\n",
       "42806217   яюлок  100045468513        0.0\n",
       "42806218   яюлок  100045557506        0.0\n",
       "42806219   яюлок  600001822330        0.0\n",
       "42806220   яягод  100029578096        0.0\n",
       "42806221   яягод  100029841982        0.0\n",
       "\n",
       "[42806222 rows x 3 columns]"
      ]
     },
     "execution_count": 6,
     "metadata": {},
     "output_type": "execute_result"
    }
   ],
   "source": [
    "relevance_data = pd.DataFrame(relevance_data.reset_index(), columns=['keyword', 'item_id', 'relevance'])\n",
    "relevance_data"
   ]
  },
  {
   "cell_type": "markdown",
   "id": "c6c4b21c-7351-44f7-a417-f195b2dfef01",
   "metadata": {},
   "source": [
    "Теперь же просмотры можно удалить из данных."
   ]
  },
  {
   "cell_type": "code",
   "execution_count": 7,
   "id": "5860cffe-9248-453a-adcd-d47bba362d8c",
   "metadata": {},
   "outputs": [
    {
     "data": {
      "text/plain": [
       "(2038592, 3)"
      ]
     },
     "execution_count": 7,
     "metadata": {},
     "output_type": "execute_result"
    }
   ],
   "source": [
    "relevance_data = relevance_data[(relevance_data.keyword != '') & (relevance_data.relevance != 0)]\n",
    "relevance_data.shape"
   ]
  },
  {
   "cell_type": "markdown",
   "id": "f389f556-c28d-4a4c-8d57-01cc3f371932",
   "metadata": {},
   "source": [
    "Так же фильтруются запросы со слишком низким количеством релевантных товаров."
   ]
  },
  {
   "cell_type": "code",
   "execution_count": 9,
   "id": "5783616e-3568-4bb0-8318-db65fabbb11b",
   "metadata": {},
   "outputs": [],
   "source": [
    "tmp = relevance_data.groupby('keyword').item_id.nunique()"
   ]
  },
  {
   "cell_type": "code",
   "execution_count": 13,
   "id": "c8513c74-25b3-466b-9e10-7f64d06c198a",
   "metadata": {},
   "outputs": [
    {
     "data": {
      "text/plain": [
       "keyword     48582\n",
       "item_id    630615\n",
       "dtype: int64"
      ]
     },
     "execution_count": 13,
     "metadata": {},
     "output_type": "execute_result"
    }
   ],
   "source": [
    "relevance_data = relevance_data[relevance_data.keyword.isin(tmp[tmp > 5].index)]\n",
    "relevance_data.agg({\"keyword\": \"nunique\", \"item_id\": \"nunique\"})"
   ]
  },
  {
   "cell_type": "markdown",
   "id": "2e97e250-3c61-489d-a0cb-90831ffd7168",
   "metadata": {},
   "source": [
    "Чтобы растянуть масштаб таргета применяется логарифмирование."
   ]
  },
  {
   "cell_type": "code",
   "execution_count": 21,
   "id": "b912cb70-e41f-41ea-8537-17cabdb63a75",
   "metadata": {},
   "outputs": [
    {
     "data": {
      "text/plain": [
       "<AxesSubplot: >"
      ]
     },
     "execution_count": 21,
     "metadata": {},
     "output_type": "execute_result"
    },
    {
     "data": {
      "image/png": "[encoded data removed]",
      "text/plain": [
       "<Figure size 640x480 with 1 Axes>"
      ]
     },
     "metadata": {},
     "output_type": "display_data"
    }
   ],
   "source": [
    "relevance_data.relevance = relevance_data.relevance.apply(lambda x: np.log(1 + x))\n",
    "relevance_data.relevance.hist(bins=100)"
   ]
  },
  {
   "cell_type": "markdown",
   "id": "3c2b65d5-316c-4476-bc0b-7f2c615c028e",
   "metadata": {},
   "source": [
    "## 3. Train-test split"
   ]
  },
  {
   "cell_type": "code",
   "execution_count": 28,
   "id": "770dce57-1f3e-4ffa-9f67-5c97d3f6ac97",
   "metadata": {},
   "outputs": [],
   "source": [
    "keywords = relevance_data.keyword.unique()\n",
    "np.random.shuffle(keywords)\n",
    "\n",
    "train_size = int(0.8 * len(keywords))\n",
    "train_keywords = keywords[:train_size]\n",
    "test_keywords = keywords[train_size:]"
   ]
  },
  {
   "cell_type": "code",
   "execution_count": 29,
   "id": "ce5a3475-2e20-48c3-ab8c-d23697832fa3",
   "metadata": {},
   "outputs": [
    {
     "data": {
      "text/plain": [
       "38865"
      ]
     },
     "execution_count": 29,
     "metadata": {},
     "output_type": "execute_result"
    }
   ],
   "source": [
    "len(train_keywords)"
   ]
  },
  {
   "cell_type": "code",
   "execution_count": 31,
   "id": "5bc6227c-06c6-4513-bbbb-029cafd60bb4",
   "metadata": {},
   "outputs": [],
   "source": [
    "train = relevance_data[relevance_data.keyword.isin(train_keywords)]\n",
    "test = relevance_data[relevance_data.keyword.isin(test_keywords)]"
   ]
  },
  {
   "cell_type": "code",
   "execution_count": 34,
   "id": "d1634977-0deb-4623-b864-2c2d23c6e7cf",
   "metadata": {},
   "outputs": [],
   "source": [
    "train.to_csv('data/train.csv', index=False)\n",
    "test.to_csv('data/test.csv', index=False)"
   ]
  },
  {
   "cell_type": "code",
   "execution_count": 35,
   "id": "fb04bb75-bff9-48b9-ab45-0693f59e830a",
   "metadata": {},
   "outputs": [],
   "source": [
    "relevance_data.to_csv('data/relevance_data.csv', index=False)"
   ]
  },
  {
   "cell_type": "markdown",
   "id": "d747de66-b792-44ea-9b7c-3af3dce13357",
   "metadata": {},
   "source": [
    "## 4. Simple metrics making [DEPRECATED]\n",
    "\n",
    "Расчет простых метрик товара на основе исходных данных. Можно обучать агента на воздействие на коэффициенты этих метрик."
   ]
  },
  {
   "cell_type": "code",
   "execution_count": 30,
   "id": "3ec3b7d5-babe-4302-9236-a1cb67f2d990",
   "metadata": {},
   "outputs": [
    {
     "data": {
      "text/html": [
       "<div>\n",
       "<style scoped>\n",
       "    .dataframe tbody tr th:only-of-type {\n",
       "        vertical-align: middle;\n",
       "    }\n",
       "\n",
       "    .dataframe tbody tr th {\n",
       "        vertical-align: top;\n",
       "    }\n",
       "\n",
       "    .dataframe thead th {\n",
       "        text-align: right;\n",
       "    }\n",
       "</style>\n",
       "<table border=\"1\" class=\"dataframe\">\n",
       "  <thead>\n",
       "    <tr style=\"text-align: right;\">\n",
       "      <th></th>\n",
       "      <th>keyword</th>\n",
       "      <th>item_id</th>\n",
       "      <th>relevance</th>\n",
       "    </tr>\n",
       "  </thead>\n",
       "  <tbody>\n",
       "    <tr>\n",
       "      <th>0</th>\n",
       "      <td>0 000 1 1400 2 673 edition k karcher universal...</td>\n",
       "      <td>100001322597</td>\n",
       "      <td>0.405465</td>\n",
       "    </tr>\n",
       "    <tr>\n",
       "      <th>1</th>\n",
       "      <td>0 000 1 1400 2 673 edition k karcher universal...</td>\n",
       "      <td>100001325223</td>\n",
       "      <td>0.693147</td>\n",
       "    </tr>\n",
       "    <tr>\n",
       "      <th>2</th>\n",
       "      <td>0 000 1 1400 2 673 edition k karcher universal...</td>\n",
       "      <td>100013196777</td>\n",
       "      <td>0.405465</td>\n",
       "    </tr>\n",
       "    <tr>\n",
       "      <th>3</th>\n",
       "      <td>0 000 1 1400 2 673 edition k karcher universal...</td>\n",
       "      <td>100024448131</td>\n",
       "      <td>3.931826</td>\n",
       "    </tr>\n",
       "    <tr>\n",
       "      <th>4</th>\n",
       "      <td>0 000 1 1400 2 673 edition k karcher universal...</td>\n",
       "      <td>100026038206</td>\n",
       "      <td>4.624973</td>\n",
       "    </tr>\n",
       "    <tr>\n",
       "      <th>...</th>\n",
       "      <td>...</td>\n",
       "      <td>...</td>\n",
       "      <td>...</td>\n",
       "    </tr>\n",
       "    <tr>\n",
       "      <th>1154062</th>\n",
       "      <td>ящик</td>\n",
       "      <td>600002996248</td>\n",
       "      <td>0.055570</td>\n",
       "    </tr>\n",
       "    <tr>\n",
       "      <th>1154063</th>\n",
       "      <td>ящик</td>\n",
       "      <td>600003699719</td>\n",
       "      <td>0.693147</td>\n",
       "    </tr>\n",
       "    <tr>\n",
       "      <th>1154064</th>\n",
       "      <td>ящик</td>\n",
       "      <td>600009268170</td>\n",
       "      <td>3.931826</td>\n",
       "    </tr>\n",
       "    <tr>\n",
       "      <th>1154065</th>\n",
       "      <td>ящик</td>\n",
       "      <td>600011403382</td>\n",
       "      <td>2.397895</td>\n",
       "    </tr>\n",
       "    <tr>\n",
       "      <th>1154066</th>\n",
       "      <td>ящик</td>\n",
       "      <td>600011783498</td>\n",
       "      <td>0.405465</td>\n",
       "    </tr>\n",
       "  </tbody>\n",
       "</table>\n",
       "<p>1154067 rows × 3 columns</p>\n",
       "</div>"
      ],
      "text/plain": [
       "                                                   keyword       item_id  \\\n",
       "0        0 000 1 1400 2 673 edition k karcher universal...  100001322597   \n",
       "1        0 000 1 1400 2 673 edition k karcher universal...  100001325223   \n",
       "2        0 000 1 1400 2 673 edition k karcher universal...  100013196777   \n",
       "3        0 000 1 1400 2 673 edition k karcher universal...  100024448131   \n",
       "4        0 000 1 1400 2 673 edition k karcher universal...  100026038206   \n",
       "...                                                    ...           ...   \n",
       "1154062                                               ящик  600002996248   \n",
       "1154063                                               ящик  600003699719   \n",
       "1154064                                               ящик  600009268170   \n",
       "1154065                                               ящик  600011403382   \n",
       "1154066                                               ящик  600011783498   \n",
       "\n",
       "         relevance  \n",
       "0         0.405465  \n",
       "1         0.693147  \n",
       "2         0.405465  \n",
       "3         3.931826  \n",
       "4         4.624973  \n",
       "...            ...  \n",
       "1154062   0.055570  \n",
       "1154063   0.693147  \n",
       "1154064   3.931826  \n",
       "1154065   2.397895  \n",
       "1154066   0.405465  \n",
       "\n",
       "[1154067 rows x 3 columns]"
      ]
     },
     "execution_count": 30,
     "metadata": {},
     "output_type": "execute_result"
    }
   ],
   "source": [
    "relevance_data = pd.read_csv('data/relevance_data.csv')\n",
    "relevance_data"
   ]
  },
  {
   "cell_type": "code",
   "execution_count": 31,
   "id": "c2874a0c-32cd-4bdb-88b1-37a772ebcf6b",
   "metadata": {
    "tags": []
   },
   "outputs": [
    {
     "name": "stdout",
     "output_type": "stream",
     "text": [
      "CPU times: user 6min, sys: 17.8 s, total: 6min 18s\n",
      "Wall time: 6min 18s\n"
     ]
    }
   ],
   "source": [
    "%%time\n",
    "feature_data = df[df.item_id.isin(relevance_data.item_id.unique())].groupby('item_id').agg(\n",
    "    cnt=(\"session_id\", \"count\"),\n",
    "    uniq_sessions=(\"session_id\", \"nunique\"),\n",
    "    uniq_keywords=(\"keyword\", \"nunique\"),\n",
    "    uniq_events=(\"event_name\", \"nunique\"),\n",
    "    view_cnt=(\"event_name\", lambda x: sum(x == \"view_item_list\")),\n",
    "    select_cnt=(\"event_name\", lambda x: sum(x == \"select_item\")),\n",
    "    add_to_wish_cnt=(\"event_name\", lambda x: sum(x == \"add_to_wishlist\")),\n",
    "    add_to_cart_cnt=(\"event_name\", lambda x: sum(x == \"add_to_cart\"))\n",
    ")"
   ]
  },
  {
   "cell_type": "code",
   "execution_count": 8,
   "id": "c6244712-5df6-467d-9ac9-08a71a69457e",
   "metadata": {},
   "outputs": [
    {
     "data": {
      "text/plain": [
       "session_id    2763824\n",
       "keyword       1331538\n",
       "dtype: int64"
      ]
     },
     "execution_count": 8,
     "metadata": {},
     "output_type": "execute_result"
    }
   ],
   "source": [
    "df.agg({\"session_id\": \"nunique\", \"keyword\": \"nunique\"})"
   ]
  },
  {
   "cell_type": "code",
   "execution_count": 9,
   "id": "81882ec1-1b15-4389-a58b-0cb706ce1935",
   "metadata": {},
   "outputs": [],
   "source": [
    "uniq_sessions = 2763824\n",
    "uniq_keywords = 1331538"
   ]
  },
  {
   "cell_type": "code",
   "execution_count": 32,
   "id": "bb03c2b3-505c-4c2a-96cd-77ee7dfa096a",
   "metadata": {},
   "outputs": [
    {
     "data": {
      "text/html": [
       "<div>\n",
       "<style scoped>\n",
       "    .dataframe tbody tr th:only-of-type {\n",
       "        vertical-align: middle;\n",
       "    }\n",
       "\n",
       "    .dataframe tbody tr th {\n",
       "        vertical-align: top;\n",
       "    }\n",
       "\n",
       "    .dataframe thead th {\n",
       "        text-align: right;\n",
       "    }\n",
       "</style>\n",
       "<table border=\"1\" class=\"dataframe\">\n",
       "  <thead>\n",
       "    <tr style=\"text-align: right;\">\n",
       "      <th></th>\n",
       "      <th>item_id</th>\n",
       "      <th>cnt</th>\n",
       "      <th>uniq_sessions</th>\n",
       "      <th>uniq_keywords</th>\n",
       "      <th>uniq_events</th>\n",
       "      <th>view_cnt</th>\n",
       "      <th>select_cnt</th>\n",
       "      <th>add_to_wish_cnt</th>\n",
       "      <th>add_to_cart_cnt</th>\n",
       "    </tr>\n",
       "  </thead>\n",
       "  <tbody>\n",
       "    <tr>\n",
       "      <th>0</th>\n",
       "      <td>100000000117</td>\n",
       "      <td>399</td>\n",
       "      <td>383</td>\n",
       "      <td>73</td>\n",
       "      <td>4</td>\n",
       "      <td>393</td>\n",
       "      <td>4</td>\n",
       "      <td>1</td>\n",
       "      <td>1</td>\n",
       "    </tr>\n",
       "    <tr>\n",
       "      <th>1</th>\n",
       "      <td>100000000125</td>\n",
       "      <td>665</td>\n",
       "      <td>647</td>\n",
       "      <td>114</td>\n",
       "      <td>2</td>\n",
       "      <td>662</td>\n",
       "      <td>3</td>\n",
       "      <td>0</td>\n",
       "      <td>0</td>\n",
       "    </tr>\n",
       "    <tr>\n",
       "      <th>2</th>\n",
       "      <td>100000000244</td>\n",
       "      <td>17</td>\n",
       "      <td>16</td>\n",
       "      <td>15</td>\n",
       "      <td>2</td>\n",
       "      <td>16</td>\n",
       "      <td>1</td>\n",
       "      <td>0</td>\n",
       "      <td>0</td>\n",
       "    </tr>\n",
       "    <tr>\n",
       "      <th>3</th>\n",
       "      <td>100000000350</td>\n",
       "      <td>21</td>\n",
       "      <td>21</td>\n",
       "      <td>12</td>\n",
       "      <td>2</td>\n",
       "      <td>20</td>\n",
       "      <td>1</td>\n",
       "      <td>0</td>\n",
       "      <td>0</td>\n",
       "    </tr>\n",
       "    <tr>\n",
       "      <th>4</th>\n",
       "      <td>100000000419</td>\n",
       "      <td>32</td>\n",
       "      <td>28</td>\n",
       "      <td>13</td>\n",
       "      <td>4</td>\n",
       "      <td>28</td>\n",
       "      <td>2</td>\n",
       "      <td>1</td>\n",
       "      <td>1</td>\n",
       "    </tr>\n",
       "    <tr>\n",
       "      <th>...</th>\n",
       "      <td>...</td>\n",
       "      <td>...</td>\n",
       "      <td>...</td>\n",
       "      <td>...</td>\n",
       "      <td>...</td>\n",
       "      <td>...</td>\n",
       "      <td>...</td>\n",
       "      <td>...</td>\n",
       "      <td>...</td>\n",
       "    </tr>\n",
       "    <tr>\n",
       "      <th>630610</th>\n",
       "      <td>600012398187</td>\n",
       "      <td>2</td>\n",
       "      <td>1</td>\n",
       "      <td>1</td>\n",
       "      <td>2</td>\n",
       "      <td>1</td>\n",
       "      <td>0</td>\n",
       "      <td>1</td>\n",
       "      <td>0</td>\n",
       "    </tr>\n",
       "    <tr>\n",
       "      <th>630611</th>\n",
       "      <td>600012398384</td>\n",
       "      <td>4</td>\n",
       "      <td>3</td>\n",
       "      <td>1</td>\n",
       "      <td>2</td>\n",
       "      <td>3</td>\n",
       "      <td>1</td>\n",
       "      <td>0</td>\n",
       "      <td>0</td>\n",
       "    </tr>\n",
       "    <tr>\n",
       "      <th>630612</th>\n",
       "      <td>600012467513</td>\n",
       "      <td>2</td>\n",
       "      <td>1</td>\n",
       "      <td>1</td>\n",
       "      <td>2</td>\n",
       "      <td>1</td>\n",
       "      <td>1</td>\n",
       "      <td>0</td>\n",
       "      <td>0</td>\n",
       "    </tr>\n",
       "    <tr>\n",
       "      <th>630613</th>\n",
       "      <td>600012489079</td>\n",
       "      <td>2</td>\n",
       "      <td>1</td>\n",
       "      <td>1</td>\n",
       "      <td>2</td>\n",
       "      <td>1</td>\n",
       "      <td>1</td>\n",
       "      <td>0</td>\n",
       "      <td>0</td>\n",
       "    </tr>\n",
       "    <tr>\n",
       "      <th>630614</th>\n",
       "      <td>600012494556</td>\n",
       "      <td>3</td>\n",
       "      <td>2</td>\n",
       "      <td>2</td>\n",
       "      <td>2</td>\n",
       "      <td>2</td>\n",
       "      <td>0</td>\n",
       "      <td>1</td>\n",
       "      <td>0</td>\n",
       "    </tr>\n",
       "  </tbody>\n",
       "</table>\n",
       "<p>630615 rows × 9 columns</p>\n",
       "</div>"
      ],
      "text/plain": [
       "             item_id  cnt  uniq_sessions  uniq_keywords  uniq_events  \\\n",
       "0       100000000117  399            383             73            4   \n",
       "1       100000000125  665            647            114            2   \n",
       "2       100000000244   17             16             15            2   \n",
       "3       100000000350   21             21             12            2   \n",
       "4       100000000419   32             28             13            4   \n",
       "...              ...  ...            ...            ...          ...   \n",
       "630610  600012398187    2              1              1            2   \n",
       "630611  600012398384    4              3              1            2   \n",
       "630612  600012467513    2              1              1            2   \n",
       "630613  600012489079    2              1              1            2   \n",
       "630614  600012494556    3              2              2            2   \n",
       "\n",
       "        view_cnt  select_cnt  add_to_wish_cnt  add_to_cart_cnt  \n",
       "0            393           4                1                1  \n",
       "1            662           3                0                0  \n",
       "2             16           1                0                0  \n",
       "3             20           1                0                0  \n",
       "4             28           2                1                1  \n",
       "...          ...         ...              ...              ...  \n",
       "630610         1           0                1                0  \n",
       "630611         3           1                0                0  \n",
       "630612         1           1                0                0  \n",
       "630613         1           1                0                0  \n",
       "630614         2           0                1                0  \n",
       "\n",
       "[630615 rows x 9 columns]"
      ]
     },
     "execution_count": 32,
     "metadata": {},
     "output_type": "execute_result"
    }
   ],
   "source": [
    "feature_data = feature_data.reset_index()\n",
    "feature_data"
   ]
  },
  {
   "cell_type": "code",
   "execution_count": 33,
   "id": "8f605eb0-653d-4b59-9a18-fbbaeed93333",
   "metadata": {},
   "outputs": [],
   "source": [
    "feature_data.to_csv('data/feature_data.csv', index=False)"
   ]
  },
  {
   "cell_type": "code",
   "execution_count": null,
   "id": "57ac9a35-bdcd-4e29-9756-48137d96d186",
   "metadata": {},
   "outputs": [],
   "source": []
  }
 ],
 "metadata": {
  "kernelspec": {
   "display_name": "Python 3 (ipykernel)",
   "language": "python",
   "name": "python3"
  },
  "language_info": {
   "codemirror_mode": {
    "name": "ipython",
    "version": 3
   },
   "file_extension": ".py",
   "mimetype": "text/x-python",
   "name": "python",
   "nbconvert_exporter": "python",
   "pygments_lexer": "ipython3",
   "version": "3.9.2"
  }
 },
 "nbformat": 4,
 "nbformat_minor": 5
}
