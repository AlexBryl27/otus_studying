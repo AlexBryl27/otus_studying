{
 "cells": [
  {
   "cell_type": "markdown",
   "id": "5defafbc-4ba0-4d34-9573-88bc7265b463",
   "metadata": {},
   "source": [
    "# Обучение многорукого бандита\n",
    "\n",
    "Каждая ручка бандита настраивает коэффициент при векторе. Применение коэффициентов с положительной наградой может теоретически улучшить ранжирование.\n",
    "Метрика ранжирования - NDCG.\n",
    "Метрика рассчитывается между таргетом (искуственной релевантностью документа для запроса) и инвертированными расстояниями от вектора запроса до векторов кандидатов.\n",
    "Инвертация необходима для того, чтобы релевантность для ближайшего вектора была максимальная.\n",
    "\n",
    "Реализовано 2 опции:\n",
    "* применение коэффициентов к вектору запроса. Тогда в рамках расчета награды осуществляется новый поиск и расчет ndcg для новых кандидатов. Потенциальное преимущество такого подхода то, что в тренировочных данных набор релевантных документов строго фиксирован, а так мы можем менять набор кандидатов, улучшая метрику.\n",
    "* применение коэффициентов к вектору документов. Поиск осуществляется только раз и при новых итерациях для одного запроса набор документов не меняется. Но применение коэффициентов влият на расстояние до векторов и, соответсвенно, ранжирование."
   ]
  },
  {
   "cell_type": "code",
   "execution_count": 1,
   "id": "42d5d51e-1a74-4af6-8883-52b9285662f5",
   "metadata": {},
   "outputs": [],
   "source": [
    "import sys\n",
    "sys.path.append('src/')"
   ]
  },
  {
   "cell_type": "code",
   "execution_count": 2,
   "id": "6a755fe0-504f-45ad-82c2-dedc1549595c",
   "metadata": {},
   "outputs": [],
   "source": [
    "from src.tokenizer import Tokenizer\n",
    "from src.hnsw_index import HNSWIndex\n",
    "from src.environments import Environment, UCB1, Thompson, Agent"
   ]
  },
  {
   "cell_type": "code",
   "execution_count": 3,
   "id": "ff764f14-e729-4354-bb14-8f3e4bb1d3e8",
   "metadata": {},
   "outputs": [],
   "source": [
    "from gensim.models import FastText\n",
    "from sklearn.preprocessing import StandardScaler\n",
    "import pickle\n",
    "import pandas as pd\n",
    "import numpy as np\n",
    "from sklearn.metrics import ndcg_score\n",
    "import matplotlib.pyplot as plt\n",
    "from tqdm.auto import tqdm"
   ]
  },
  {
   "cell_type": "markdown",
   "id": "9a1f0f1f-15b9-403b-be59-3fa4490ff505",
   "metadata": {},
   "source": [
    "## 1. Data loading"
   ]
  },
  {
   "cell_type": "code",
   "execution_count": 4,
   "id": "fe2d90b5-f68e-45d5-a815-86a8a8d40ba5",
   "metadata": {},
   "outputs": [],
   "source": [
    "tokenizer = Tokenizer()\n",
    "\n",
    "model = FastText.load('models/lm')\n",
    "\n",
    "index = HNSWIndex()\n",
    "index.load('models/biased_scaled_index')\n",
    "\n",
    "item_ids = np.load('data/index_ids.npy', allow_pickle=True)\n",
    "item_names = np.load('data/index_names.npy', allow_pickle=True)\n",
    "constant = np.load('data/constant.npy', allow_pickle=True)\n",
    "\n",
    "with open('models/scaler.pickle', 'rb') as f:\n",
    "    scaler = pickle.load(f)\n",
    "\n",
    "train = pd.read_csv('data/train.csv')\n",
    "test = pd.read_csv('data/test.csv')"
   ]
  },
  {
   "cell_type": "markdown",
   "id": "c8eead33-8795-4661-b7f6-f132e8b0d49e",
   "metadata": {},
   "source": [
    "## 2. Baseline"
   ]
  },
  {
   "cell_type": "code",
   "execution_count": 5,
   "id": "c9b3c0fe-03d9-4159-84c1-33d7149dd825",
   "metadata": {},
   "outputs": [],
   "source": [
    "def vectorize(tokens):\n",
    "    return np.mean([model.wv[x] for x in tokens], axis=0)\n",
    "\n",
    "def normalize_distanes(distances):\n",
    "    m = 1 if max(distances) == 0. else max(distances)\n",
    "    return (1 - distances / m)"
   ]
  },
  {
   "cell_type": "code",
   "execution_count": 6,
   "id": "c9101a66-8806-4dbb-9416-90fffae64876",
   "metadata": {},
   "outputs": [],
   "source": [
    "def get_ndcg_score(q, true_ids, true_relevance):\n",
    "    # запросы уже нормализованы, можно просто сплиттить\n",
    "    tokens = q.split()\n",
    "    vector = vectorize(tokens).reshape(1, -1)\n",
    "    vector = scaler.transform(vector) + constant\n",
    "    I, D = index.index.knn_query(vector, k=100)\n",
    "    \n",
    "    pred_relevance = normalize_distanes(D[0])\n",
    "    pred_ids = item_ids[I[0]] # найденные документы\n",
    "    \n",
    "    # поиск пересечений документов. Релевантность документов, отсутствующих в данных, зануляется\n",
    "    mask = np.in1d(pred_ids, true_ids)\n",
    "    true_relevance_masked = np.zeros((pred_ids.shape))\n",
    "    true_relevance_masked[mask] = true_relevance[np.in1d(true_ids, pred_ids)]\n",
    "    \n",
    "    return ndcg_score(true_relevance_masked.reshape(1, -1), pred_relevance.reshape(1, -1), k=20)"
   ]
  },
  {
   "cell_type": "markdown",
   "id": "3448ddad-3a8b-412e-9632-9c5246c31f28",
   "metadata": {},
   "source": [
    "Развертка данных для удобства:"
   ]
  },
  {
   "cell_type": "code",
   "execution_count": 7,
   "id": "f61210ed-2c7a-4797-8b1d-613fc3238e05",
   "metadata": {},
   "outputs": [],
   "source": [
    "train_data = []\n",
    "for keyword, session in train.groupby('keyword'):\n",
    "    train_data.append([keyword, session.item_id.values, session.relevance.values])\n",
    "\n",
    "test_data = []\n",
    "for keyword, session in test.groupby('keyword'):\n",
    "    test_data.append([keyword, session.item_id.values, session.relevance.values])"
   ]
  },
  {
   "cell_type": "markdown",
   "id": "a151c543-5c17-4fe6-b674-96424c6c20fb",
   "metadata": {},
   "source": [
    "Расчет NDCG на тренировочных и тестовых данных при использовании ранжирования по-умолчанию."
   ]
  },
  {
   "cell_type": "code",
   "execution_count": 14,
   "id": "d23770fe-b18b-43fc-9737-4680793ae03c",
   "metadata": {},
   "outputs": [
    {
     "data": {
      "application/vnd.jupyter.widget-view+json": {
       "model_id": "fb7841907aa6427189a1984f6a99045c",
       "version_major": 2,
       "version_minor": 0
      },
      "text/plain": [
       "  0%|          | 0/38865 [00:00<?, ?it/s]"
      ]
     },
     "metadata": {},
     "output_type": "display_data"
    },
    {
     "data": {
      "application/vnd.jupyter.widget-view+json": {
       "model_id": "14e19a9f6c4b4d23ac6f20ad1f3bf25a",
       "version_major": 2,
       "version_minor": 0
      },
      "text/plain": [
       "  0%|          | 0/9717 [00:00<?, ?it/s]"
      ]
     },
     "metadata": {},
     "output_type": "display_data"
    }
   ],
   "source": [
    "train_ndcg_init = 0\n",
    "for keyword, true_ids, true_relevance in tqdm(train_data):\n",
    "    train_ndcg_init += get_ndcg_score(keyword, true_ids, true_relevance)\n",
    "train_ndcg_init /= len(train_data)\n",
    "\n",
    "test_ndcg_init = 0\n",
    "for keyword, true_ids, true_relevance in tqdm(test_data):\n",
    "    test_ndcg_init += get_ndcg_score(keyword, true_ids, true_relevance)\n",
    "test_ndcg_init /= len(test_data)"
   ]
  },
  {
   "cell_type": "code",
   "execution_count": 15,
   "id": "39329ab1-b8b9-490f-87c9-49cc53b5ae3d",
   "metadata": {},
   "outputs": [
    {
     "name": "stdout",
     "output_type": "stream",
     "text": [
      "NDCG на тренировочных данных до обучения: 56.59%\n",
      "NDCG на тестовых данных до обучения: 56.37%\n"
     ]
    }
   ],
   "source": [
    "print(f\"NDCG на тренировочных данных до обучения: {train_ndcg_init:.2%}\")\n",
    "print(f\"NDCG на тестовых данных до обучения: {test_ndcg_init:.2%}\")"
   ]
  },
  {
   "cell_type": "markdown",
   "id": "c0a5383a-fe41-478c-8301-c9cb6596346e",
   "metadata": {
    "tags": []
   },
   "source": [
    "## 3. Multiarmed bandits\n",
    "### 3.1. Sanitary check\n",
    "\n",
    "Для начала проверим, способна ли среда обучаться на примере одного популярного запроса."
   ]
  },
  {
   "cell_type": "code",
   "execution_count": 94,
   "id": "40ffebb3-6a4d-4c06-b9d9-3eae9c486940",
   "metadata": {},
   "outputs": [
    {
     "data": {
      "text/plain": [
       "'беспроводн наушник'"
      ]
     },
     "execution_count": 94,
     "metadata": {},
     "output_type": "execute_result"
    }
   ],
   "source": [
    "x = train_data[20030]\n",
    "x[0]"
   ]
  },
  {
   "cell_type": "markdown",
   "id": "00cf29cd-8675-4797-b632-f9fa4f8a99bf",
   "metadata": {},
   "source": [
    "NDCG по-умолчанию:"
   ]
  },
  {
   "cell_type": "code",
   "execution_count": 95,
   "id": "578db3ba-1539-4a3b-8d0b-f3fa1a0a1f11",
   "metadata": {},
   "outputs": [
    {
     "data": {
      "text/plain": [
       "0.3924848791919044"
      ]
     },
     "execution_count": 95,
     "metadata": {},
     "output_type": "execute_result"
    }
   ],
   "source": [
    "get_ndcg_score(x[0], x[1], x[2])"
   ]
  },
  {
   "cell_type": "markdown",
   "id": "05b52840-a44b-4d76-acd8-e967da91ee4c",
   "metadata": {},
   "source": [
    "__Обучение query-based среды__"
   ]
  },
  {
   "cell_type": "code",
   "execution_count": 116,
   "id": "10237e89-5ece-4095-b881-44a9b238c467",
   "metadata": {},
   "outputs": [],
   "source": [
    "env = Environment(index.index, model, scaler, constant, item_ids, 100, [10, -1])\n",
    "strategy = UCB1(100)\n",
    "agent = Agent(env, strategy, 0)"
   ]
  },
  {
   "cell_type": "code",
   "execution_count": 117,
   "id": "d50fe84e-3466-494e-97a7-08b76c4d600c",
   "metadata": {},
   "outputs": [],
   "source": [
    "for i in range(1000):\n",
    "    agent.action(x[0], x[1], x[2])"
   ]
  },
  {
   "cell_type": "code",
   "execution_count": 118,
   "id": "7785dd61-bd69-489f-8cc5-3f0ca98a5221",
   "metadata": {},
   "outputs": [
    {
     "data": {
      "text/plain": [
       "(6,)"
      ]
     },
     "execution_count": 118,
     "metadata": {},
     "output_type": "execute_result"
    }
   ],
   "source": [
    "states = np.where(strategy.arms_states > 0)[0]\n",
    "states.shape"
   ]
  },
  {
   "cell_type": "markdown",
   "id": "7988e615-2709-4b28-9b13-a250e225f4f0",
   "metadata": {},
   "source": [
    "NDCG после обучения:"
   ]
  },
  {
   "cell_type": "code",
   "execution_count": 119,
   "id": "22e4d0f9-7041-4510-988e-5e2593568974",
   "metadata": {},
   "outputs": [
    {
     "data": {
      "text/plain": [
       "0.43397719430786286"
      ]
     },
     "execution_count": 119,
     "metadata": {},
     "output_type": "execute_result"
    }
   ],
   "source": [
    "env.get_ndcg_to_vector(x[0], x[1], x[2], states)"
   ]
  },
  {
   "cell_type": "markdown",
   "id": "14caacac-4002-41ad-8203-1911c10f7f09",
   "metadata": {},
   "source": [
    "__Обучение candidates-based среды__"
   ]
  },
  {
   "cell_type": "code",
   "execution_count": 120,
   "id": "2f1240a3-2589-44ee-a681-d3b10d135579",
   "metadata": {},
   "outputs": [],
   "source": [
    "env = Environment(index.index, model, scaler, constant, item_ids, 100, [10, -1])\n",
    "strategy = UCB1(100)\n",
    "agent = Agent(env, strategy, 1)"
   ]
  },
  {
   "cell_type": "code",
   "execution_count": 121,
   "id": "cf5dbb81-37a3-40c6-9a68-e8901a7ae0b7",
   "metadata": {},
   "outputs": [],
   "source": [
    "for i in range(1000):\n",
    "    agent.action(x[0], x[1], x[2])"
   ]
  },
  {
   "cell_type": "code",
   "execution_count": 122,
   "id": "bd22b4eb-ed20-4a9e-96cf-9b75e79d8dbe",
   "metadata": {},
   "outputs": [
    {
     "data": {
      "text/plain": [
       "(17,)"
      ]
     },
     "execution_count": 122,
     "metadata": {},
     "output_type": "execute_result"
    }
   ],
   "source": [
    "states = np.where(strategy.arms_states > 0)[0]\n",
    "states.shape"
   ]
  },
  {
   "cell_type": "markdown",
   "id": "50cb0c26-63a8-4a33-8bb2-fc14b83ec214",
   "metadata": {},
   "source": [
    "NDCG после обучения:"
   ]
  },
  {
   "cell_type": "code",
   "execution_count": 123,
   "id": "1520c70d-8721-41a8-b4f5-bef60da4286c",
   "metadata": {},
   "outputs": [
    {
     "data": {
      "text/plain": [
       "0.5723699306425953"
      ]
     },
     "execution_count": 123,
     "metadata": {},
     "output_type": "execute_result"
    }
   ],
   "source": [
    "env.get_ndcg_to_candidates(x[0], x[1], x[2], states)"
   ]
  },
  {
   "cell_type": "markdown",
   "id": "34e168ee-c7bf-45e2-8fac-e5ebee740a80",
   "metadata": {},
   "source": [
    "Оба типа среды обучаются и могут улучшить ранжирование для одного запроса, увеличив NDCG-метрику с 39 до 57%."
   ]
  },
  {
   "cell_type": "markdown",
   "id": "9c8fcc3d-35b7-4b7f-a1e0-74bff214f36b",
   "metadata": {},
   "source": [
    "### 3.2. Query vector based\n",
    "\n",
    "Применение коэффициентов к векторам запроса."
   ]
  },
  {
   "cell_type": "code",
   "execution_count": 51,
   "id": "5aec1646-1044-45d1-87cf-a72992b3d564",
   "metadata": {},
   "outputs": [],
   "source": [
    "env = Environment(index.index, model, scaler, constant, item_ids, 100, [3, -1])\n",
    "strategy = UCB1(100)\n",
    "agent = Agent(env, strategy, 0)"
   ]
  },
  {
   "cell_type": "code",
   "execution_count": 52,
   "id": "5dc67dc8-ce3f-457f-a08c-4ede29734989",
   "metadata": {
    "tags": []
   },
   "outputs": [
    {
     "data": {
      "application/vnd.jupyter.widget-view+json": {
       "model_id": "a67508007ec04dd399b20011bd6a25e6",
       "version_major": 2,
       "version_minor": 0
      },
      "text/plain": [
       "  0%|          | 0/8 [00:00<?, ?it/s]"
      ]
     },
     "metadata": {},
     "output_type": "display_data"
    },
    {
     "name": "stdout",
     "output_type": "stream",
     "text": [
      "Epoch 0, average train NDCG: 45.61%, average test NDCG: 38.09%\n",
      "Epoch 1, average train NDCG: 48.46%, average test NDCG: 50.26%\n",
      "Epoch 2, average train NDCG: 53.51%, average test NDCG: 56.37%\n",
      "Epoch 3, average train NDCG: 56.03%, average test NDCG: 56.37%\n",
      "Epoch 4, average train NDCG: 56.16%, average test NDCG: 56.37%\n",
      "Epoch 5, average train NDCG: 56.01%, average test NDCG: 54.57%\n",
      "Epoch 6, average train NDCG: 55.97%, average test NDCG: 56.37%\n",
      "Epoch 7, average train NDCG: 56.24%, average test NDCG: 55.56%\n"
     ]
    }
   ],
   "source": [
    "train_ndcgs, test_ndcgs = [train_ndcg_init], [test_ndcg_init]\n",
    "for epoch in tqdm(range(8)):\n",
    "    for keyword, true_ids, true_relevance in train_data:\n",
    "        agent.action(keyword, true_ids, true_relevance)\n",
    "    np.random.shuffle(train_data)\n",
    "    \n",
    "    train_ndcgs.append(env.total_score / len(train_data))\n",
    "    env.total_score = 0\n",
    "\n",
    "    states = np.where(strategy.arms_states > 0)[0]\n",
    "    test_ndcg = 0\n",
    "    for keyword, true_ids, true_relevance in test_data:\n",
    "        test_ndcg += env.get_ndcg_to_vector(keyword, true_ids, true_relevance, states)\n",
    "    test_ndcgs.append(test_ndcg / len(test_data))\n",
    "    print(f\"Epoch {epoch}, average train NDCG: {train_ndcgs[-1]:.2%}, average test NDCG: {test_ndcgs[-1]:.2%}\")"
   ]
  },
  {
   "cell_type": "code",
   "execution_count": 55,
   "id": "528aff35-a4e3-48e0-b631-bde950b5634c",
   "metadata": {},
   "outputs": [
    {
     "data": {
      "image/png": "[encoded data removed]",
      "text/plain": [
       "<Figure size 1000x500 with 1 Axes>"
      ]
     },
     "metadata": {},
     "output_type": "display_data"
    }
   ],
   "source": [
    "plt.figure(figsize=(10,5))\n",
    "plt.plot(train_ndcgs, label='train_ndcg')\n",
    "plt.plot(test_ndcgs, label='test_ndcgs')\n",
    "plt.legend()\n",
    "plt.show()"
   ]
  },
  {
   "cell_type": "markdown",
   "id": "55885d0d-b684-4745-a41a-f1407b8b3614",
   "metadata": {},
   "source": [
    "Лучше всего в данном случае показывает себя UCB1 семплинг. Награды выставлены аккуратно, чтобы не награждать случайные улучшения метрик на наборе части популярных запросов. В таком среда выучивает, что оптимальнее всего не применять никакие коэффициенты и вернуться к ранжированию по-умолчанию."
   ]
  },
  {
   "cell_type": "code",
   "execution_count": 56,
   "id": "f0876f38-7448-449e-916c-6963627ca2b0",
   "metadata": {},
   "outputs": [
    {
     "data": {
      "text/plain": [
       "array([84])"
      ]
     },
     "execution_count": 56,
     "metadata": {},
     "output_type": "execute_result"
    }
   ],
   "source": [
    "states"
   ]
  },
  {
   "cell_type": "code",
   "execution_count": 57,
   "id": "c00ecd52-2bdc-443f-b75f-c672735f12bf",
   "metadata": {},
   "outputs": [
    {
     "data": {
      "text/plain": [
       "array([ -57., -125.,  -41.,  -72.,  -37., -127., -124.,  -97., -127.,\n",
       "        -27., -121., -114., -128.,  -16.,  -23.,  -71.,  -23.,  -94.,\n",
       "       -121.,  -84., -107.,  -36.,  -35., -126., -117., -128., -128.,\n",
       "        -83., -127.,  -69.,  -47.,  -33.,  -60.,  -96.,  -36., -126.,\n",
       "       -128., -127.,  -88.,  -42., -120.,  -57., -109., -127.,  -29.,\n",
       "        -85.,  -49.,  -43., -124.,  -66., -126.,  -70., -108., -119.,\n",
       "       -128.,  -23., -126., -122., -110.,  -76., -114.,  -74.,  -42.,\n",
       "       -119.,  -97., -106., -128.,  -56.,  -88.,  -76., -112.,  -39.,\n",
       "       -128., -124., -127.,  -42., -123., -128.,  -86., -127.,  -41.,\n",
       "       -114.,  -98., -126.,    1.,  -39., -118., -125., -128., -125.,\n",
       "       -125., -127., -128., -124.,  -23., -114., -122., -103., -115.,\n",
       "        -29.])"
      ]
     },
     "execution_count": 57,
     "metadata": {},
     "output_type": "execute_result"
    }
   ],
   "source": [
    "strategy.arms_states"
   ]
  },
  {
   "cell_type": "markdown",
   "id": "9a55adbc-e56f-4521-9ab0-323d6a1fa345",
   "metadata": {},
   "source": [
    "Интересно глянуть, что будет если сильнее награждать малейшие улучшения."
   ]
  },
  {
   "cell_type": "code",
   "execution_count": 58,
   "id": "70d1f9a0-2ee9-45ae-a1bb-3ee1f4635b4f",
   "metadata": {},
   "outputs": [],
   "source": [
    "env = Environment(index.index, model, scaler, constant, item_ids, 100, [10, -1])\n",
    "strategy = UCB1(100)\n",
    "agent = Agent(env, strategy, 0)"
   ]
  },
  {
   "cell_type": "code",
   "execution_count": 59,
   "id": "596d3afc-54fa-4277-8ad6-ee9a0ab337ca",
   "metadata": {
    "tags": []
   },
   "outputs": [
    {
     "data": {
      "application/vnd.jupyter.widget-view+json": {
       "model_id": "c06905fcc1f6409d8b0cb3baec7b44b3",
       "version_major": 2,
       "version_minor": 0
      },
      "text/plain": [
       "  0%|          | 0/8 [00:00<?, ?it/s]"
      ]
     },
     "metadata": {},
     "output_type": "display_data"
    },
    {
     "name": "stdout",
     "output_type": "stream",
     "text": [
      "Epoch 0, average train NDCG: 13.96%, average test NDCG: 6.41%\n",
      "Epoch 1, average train NDCG: 10.80%, average test NDCG: 11.70%\n",
      "Epoch 2, average train NDCG: 12.23%, average test NDCG: 12.29%\n",
      "Epoch 3, average train NDCG: 11.23%, average test NDCG: 9.64%\n",
      "Epoch 4, average train NDCG: 9.32%, average test NDCG: 9.10%\n",
      "Epoch 5, average train NDCG: 10.91%, average test NDCG: 10.41%\n",
      "Epoch 6, average train NDCG: 10.07%, average test NDCG: 7.77%\n",
      "Epoch 7, average train NDCG: 10.09%, average test NDCG: 19.41%\n"
     ]
    }
   ],
   "source": [
    "train_ndcgs, test_ndcgs = [train_ndcg_init], [test_ndcg_init]\n",
    "for epoch in tqdm(range(8)):\n",
    "    for keyword, true_ids, true_relevance in train_data:\n",
    "        agent.action(keyword, true_ids, true_relevance)\n",
    "    np.random.shuffle(train_data)\n",
    "    \n",
    "    train_ndcgs.append(env.total_score / len(train_data))\n",
    "    env.total_score = 0\n",
    "\n",
    "    states = np.where(strategy.arms_states > 0)[0]\n",
    "    test_ndcg = 0\n",
    "    for keyword, true_ids, true_relevance in test_data:\n",
    "        test_ndcg += env.get_ndcg_to_vector(keyword, true_ids, true_relevance, states)\n",
    "    test_ndcgs.append(test_ndcg / len(test_data))\n",
    "    print(f\"Epoch {epoch}, average train NDCG: {train_ndcgs[-1]:.2%}, average test NDCG: {test_ndcgs[-1]:.2%}\")"
   ]
  },
  {
   "cell_type": "code",
   "execution_count": 62,
   "id": "4e40e6a3-d736-41a6-b113-d04c3a9bf9a7",
   "metadata": {},
   "outputs": [
    {
     "data": {
      "image/png": "[encoded data removed]",
      "text/plain": [
       "<Figure size 1000x500 with 1 Axes>"
      ]
     },
     "metadata": {},
     "output_type": "display_data"
    }
   ],
   "source": [
    "plt.figure(figsize=(10,5))\n",
    "plt.plot(train_ndcgs, label='train_ndcg')\n",
    "plt.plot(test_ndcgs, label='test_ndcgs')\n",
    "plt.legend()\n",
    "plt.show()"
   ]
  },
  {
   "cell_type": "markdown",
   "id": "49ea8d7a-cd9c-4627-8010-d327cd9f5c29",
   "metadata": {},
   "source": [
    "В таком случае метрика падает гораздо сильнее и ранжирование ухудшается."
   ]
  },
  {
   "cell_type": "code",
   "execution_count": 63,
   "id": "a27cdb81-7ba7-4b8e-852f-070e83079621",
   "metadata": {},
   "outputs": [
    {
     "data": {
      "text/plain": [
       "array([78, 97, 98])"
      ]
     },
     "execution_count": 63,
     "metadata": {},
     "output_type": "execute_result"
    }
   ],
   "source": [
    "states"
   ]
  },
  {
   "cell_type": "markdown",
   "id": "08ea6c2d-c908-42c5-9246-e8ee95cda330",
   "metadata": {},
   "source": [
    "### 3.3. Documents vector based\n",
    "\n",
    "Теперь попробуем аналогичную среду, применимо к векторам документов."
   ]
  },
  {
   "cell_type": "code",
   "execution_count": 64,
   "id": "cd6bc99b-3ee3-437f-8fd0-1c27773c1928",
   "metadata": {},
   "outputs": [],
   "source": [
    "env = Environment(index.index, model, scaler, constant, item_ids, 100, rewards=[3, -1])\n",
    "strategy = UCB1(100)\n",
    "agent = Agent(env, strategy, 1)"
   ]
  },
  {
   "cell_type": "code",
   "execution_count": 65,
   "id": "58e74b88-bfc5-4da3-8025-30a2a2819cfb",
   "metadata": {
    "tags": []
   },
   "outputs": [
    {
     "data": {
      "application/vnd.jupyter.widget-view+json": {
       "model_id": "be7c60a56961491384587d4a292c5ca9",
       "version_major": 2,
       "version_minor": 0
      },
      "text/plain": [
       "  0%|          | 0/8 [00:00<?, ?it/s]"
      ]
     },
     "metadata": {},
     "output_type": "display_data"
    },
    {
     "name": "stdout",
     "output_type": "stream",
     "text": [
      "Epoch 0, average train NDCG: 21.40%, average test NDCG: 16.99%\n",
      "Epoch 1, average train NDCG: 16.50%, average test NDCG: 15.74%\n",
      "Epoch 2, average train NDCG: 15.31%, average test NDCG: 15.23%\n",
      "Epoch 3, average train NDCG: 14.22%, average test NDCG: 13.78%\n",
      "Epoch 4, average train NDCG: 14.05%, average test NDCG: 14.00%\n",
      "Epoch 5, average train NDCG: 14.03%, average test NDCG: 13.89%\n",
      "Epoch 6, average train NDCG: 34.86%, average test NDCG: 56.32%\n",
      "Epoch 7, average train NDCG: 55.66%, average test NDCG: 51.63%\n"
     ]
    }
   ],
   "source": [
    "train_ndcgs, test_ndcgs = [train_ndcg_init], [test_ndcg_init]\n",
    "for epoch in tqdm(range(8)):\n",
    "    for keyword, true_ids, true_relevance in train_data:\n",
    "        agent.action(keyword, true_ids, true_relevance)\n",
    "    np.random.shuffle(train_data)\n",
    "    \n",
    "    train_ndcgs.append(env.total_score / len(train_data))\n",
    "    env.total_score = 0\n",
    "\n",
    "    states = np.where(strategy.arms_states > 0)[0]\n",
    "    test_ndcg = 0\n",
    "    for keyword, true_ids, true_relevance in test_data:\n",
    "        test_ndcg += env.get_ndcg_to_candidates(keyword, true_ids, true_relevance, states)\n",
    "    test_ndcgs.append(test_ndcg / len(test_data))\n",
    "    print(f\"Epoch {epoch}, average train NDCG: {train_ndcgs[-1]:.2%}, average test NDCG: {test_ndcgs[-1]:.2%}\")"
   ]
  },
  {
   "cell_type": "code",
   "execution_count": 66,
   "id": "383864a3-46c0-4354-89ab-78a09dd49e3f",
   "metadata": {},
   "outputs": [
    {
     "data": {
      "image/png": "[encoded data removed]",
      "text/plain": [
       "<Figure size 1000x500 with 1 Axes>"
      ]
     },
     "metadata": {},
     "output_type": "display_data"
    }
   ],
   "source": [
    "plt.figure(figsize=(10,5))\n",
    "plt.plot(train_ndcgs, label='train_ndcg')\n",
    "plt.plot(test_ndcgs, label='test_ndcgs')\n",
    "plt.legend()\n",
    "plt.show()"
   ]
  },
  {
   "cell_type": "code",
   "execution_count": 68,
   "id": "d3711aa3-b417-44d8-8170-a1e42f9a2119",
   "metadata": {},
   "outputs": [
    {
     "data": {
      "text/plain": [
       "array([49])"
      ]
     },
     "execution_count": 68,
     "metadata": {},
     "output_type": "execute_result"
    }
   ],
   "source": [
    "states"
   ]
  },
  {
   "cell_type": "markdown",
   "id": "7e0686d9-3039-4544-9a8b-703a2b556c75",
   "metadata": {},
   "source": [
    "Аналогично, метрики падают очень сильно, но при этом в конце среда, как будто, снова решила отказаться от использования коэффициентов. На примере видно, что ранжирование ухудшилось."
   ]
  },
  {
   "cell_type": "code",
   "execution_count": 69,
   "id": "9f2de083-39ac-4ba8-9296-6dca29f92629",
   "metadata": {},
   "outputs": [
    {
     "data": {
      "text/plain": [
       "array(['Кожаный чехол apple magsafe для iphone 14 pro max (ink)',\n",
       "       'Смартфон Apple iPhone 13 Pro Max 512Gb Alpine green',\n",
       "       'Смартфон Apple iPhone 13 Pro Max 1TB Alpine Green',\n",
       "       'Смартфон Apple iPhone 14 Pro Max 128Gb Silver (2sim)',\n",
       "       'Смартфон Apple iPhone 14 Pro Max 1024Gb Space Black (eSIM)',\n",
       "       'Чехол Iphone 14 Pro Max MagSafe цветной, бордовый',\n",
       "       'Чехол Uniq LINO для iPhone 14 Pro Max, Фиолетовый (Purple)',\n",
       "       'Смартфон Apple iPhone 14 Pro Max 1024Gb Gold (eSIM)',\n",
       "       'Чехол для Apple iPhone 14 Pro Max прозрачный',\n",
       "       'Смартфон Apple iPhone 14 Pro Max 512Gb Space Black (eSIM)'],\n",
       "      dtype='<U90')"
      ]
     },
     "execution_count": 69,
     "metadata": {},
     "output_type": "execute_result"
    }
   ],
   "source": [
    "q = 'apple iphone 14 pro max'\n",
    "# q = \"xiaomi смартфон\"\n",
    "tokens = tokenizer.tokenize(q)\n",
    "vector = vectorize(tokens).reshape(1, -1)\n",
    "vector = scaler.transform(vector) + constant\n",
    "I, _ = index.index.knn_query(vector, k=100)\n",
    "candidates = np.asarray(index.index.get_items(I[0]))\n",
    "candidates[:, states] *= env.arm_coefficients[states]\n",
    "D = ((vector - candidates)**2).sum(axis=1)\n",
    "ids = np.argsort(D)\n",
    "item_names[I[0]][ids][:10]"
   ]
  },
  {
   "cell_type": "markdown",
   "id": "9a989ab6-f617-4666-9d12-4b7857e8ac16",
   "metadata": {},
   "source": [
    "## 4. Conclusion\n",
    "\n",
    "Примененный мной алгоритм не вносит никаких улучшений в ранжирование о общем случае, хотя и помогает настроить ранжирование для отдельных запросов. По итогу среда \"решает\" ничего не менять в бейслайне.\n",
    "\n",
    "Дополнение: эксперименты с различными параметрами показали, что шкалирование векторов не влияет на результат и можно отказаться от этого шага в рамках текущей реализации."
   ]
  },
  {
   "cell_type": "code",
   "execution_count": null,
   "id": "93cd6e77-cf1d-440f-b8cb-39ab6ae8ca75",
   "metadata": {},
   "outputs": [],
   "source": []
  }
 ],
 "metadata": {
  "kernelspec": {
   "display_name": "Python 3 (ipykernel)",
   "language": "python",
   "name": "python3"
  },
  "language_info": {
   "codemirror_mode": {
    "name": "ipython",
    "version": 3
   },
   "file_extension": ".py",
   "mimetype": "text/x-python",
   "name": "python",
   "nbconvert_exporter": "python",
   "pygments_lexer": "ipython3",
   "version": "3.9.2"
  }
 },
 "nbformat": 4,
 "nbformat_minor": 5
}
